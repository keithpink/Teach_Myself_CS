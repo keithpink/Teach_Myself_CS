{
 "cells": [
  {
   "cell_type": "markdown",
   "id": "77bf1dda",
   "metadata": {},
   "source": [
    "---\n",
    "## Search"
   ]
  },
  {
   "cell_type": "markdown",
   "id": "a1da39cd",
   "metadata": {},
   "source": [
    "### LeetCode 35. [Search Insert Position](https://leetcode.com/problems/search-insert-position/)"
   ]
  },
  {
   "cell_type": "markdown",
   "id": "66e6e0cd",
   "metadata": {},
   "source": [
    "An example of binary search. You can implment binary search by either interation or recursion. Here is a recursive version."
   ]
  },
  {
   "cell_type": "code",
   "execution_count": 2,
   "id": "e6e2b63b",
   "metadata": {},
   "outputs": [],
   "source": [
    "class Solution:\n",
    "    def searchInsert(self, nums, target):\n",
    "        if len(nums) == 0: return 0\n",
    "        if len(nums) == 1:\n",
    "            return 0 if target<= nums[0] else 1\n",
    "               \n",
    "        N = len(nums)//2\n",
    "        \n",
    "        if target == nums[N]:\n",
    "            return N\n",
    "        elif target < nums[N]:\n",
    "            return self.searchInsert(nums[:N], target)\n",
    "        elif target > nums[N]:\n",
    "            return N+1+ self.searchInsert(nums[N+1:], target)"
   ]
  },
  {
   "cell_type": "markdown",
   "id": "4085155a",
   "metadata": {},
   "source": [
    "### LeetCode 33. [Search in Rotated Sorted Array](https://leetcode.com/problems/search-in-rotated-sorted-array/)"
   ]
  },
  {
   "cell_type": "markdown",
   "id": "50dba643",
   "metadata": {},
   "source": [
    "Another variation of binary search. Here is a iterative version."
   ]
  },
  {
   "cell_type": "code",
   "execution_count": 4,
   "id": "43367657",
   "metadata": {},
   "outputs": [],
   "source": [
    "class Solution:\n",
    "    def search(self, nums, target):\n",
    "        l = 0\n",
    "        r = len(nums)-1\n",
    "        \n",
    "        while l<=r:\n",
    "            m = (l+r)//2\n",
    "            if nums[m] == target:\n",
    "                return m\n",
    "            elif nums[m] >= nums[l]:\n",
    "                if nums[l] <= target and target < nums[m]:\n",
    "                    r = m - 1\n",
    "                else:\n",
    "                    l = m + 1\n",
    "            else: # nums[m] <= nums[l]\n",
    "                if nums[m] < target and target <= nums[r]:\n",
    "                    l = m + 1\n",
    "                else:\n",
    "                    r = m - 1\n",
    "        \n",
    "        return -1"
   ]
  },
  {
   "cell_type": "code",
   "execution_count": null,
   "id": "a239a241",
   "metadata": {},
   "outputs": [],
   "source": []
  }
 ],
 "metadata": {
  "kernelspec": {
   "display_name": "Python 3 (ipykernel)",
   "language": "python",
   "name": "python3"
  },
  "language_info": {
   "codemirror_mode": {
    "name": "ipython",
    "version": 3
   },
   "file_extension": ".py",
   "mimetype": "text/x-python",
   "name": "python",
   "nbconvert_exporter": "python",
   "pygments_lexer": "ipython3",
   "version": "3.9.7"
  }
 },
 "nbformat": 4,
 "nbformat_minor": 5
}
