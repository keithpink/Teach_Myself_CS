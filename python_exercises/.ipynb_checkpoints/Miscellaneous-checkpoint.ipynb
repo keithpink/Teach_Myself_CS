{
 "cells": [
  {
   "cell_type": "markdown",
   "id": "f46a7957",
   "metadata": {},
   "source": [
    "# Miscellaneous Exercises"
   ]
  },
  {
   "cell_type": "markdown",
   "id": "4efcf25f",
   "metadata": {},
   "source": [
    "Most questions are from [LeetCode](https://leetcode.com/problemset/all/) "
   ]
  },
  {
   "cell_type": "markdown",
   "id": "7f1826bd",
   "metadata": {},
   "source": [
    "### LeetCode 11. [Container With Most Water](https://leetcode.com/problems/container-with-most-water/)"
   ]
  },
  {
   "cell_type": "markdown",
   "id": "9e9c9a31",
   "metadata": {},
   "source": [
    "Two pointer are used moving from two sides to the center and keeping take away the shorter bar.\n",
    "\n",
    "The algorithm is easy to implement once you know it. The tricky part is to verify why it is correct. Try to consider the follwing way: \n",
    "\n",
    "You are going to pick out the largest rectanger among rectangers with differents base. For rectangers with same base, you take away the shorter bar since you wanna make the height larger.\n"
   ]
  },
  {
   "cell_type": "code",
   "execution_count": 1,
   "id": "327553af",
   "metadata": {},
   "outputs": [],
   "source": [
    "class Solution:\n",
    "    def maxArea(self, height):\n",
    "        area = 0  \n",
    "        left = 0\n",
    "        right = len(height)-1\n",
    "        \n",
    "        while left < right:\n",
    "            cur_area = min(height[left], height[right])*(right-left)\n",
    "            area = max(area, cur_area)\n",
    "            if height[left] <= height[right]:\n",
    "                left += 1\n",
    "            else:\n",
    "                right -= 1\n",
    "        \n",
    "        return area"
   ]
  },
  {
   "cell_type": "markdown",
   "id": "ba7b61be",
   "metadata": {},
   "source": [
    "### LeetCode 55. [Jump Game](https://leetcode.com/problems/jump-game/)"
   ]
  },
  {
   "cell_type": "code",
   "execution_count": null,
   "id": "0f343590",
   "metadata": {},
   "outputs": [],
   "source": [
    "def canJump(nums):\n",
    "    s = 0 # for starting\n",
    "    t = 0 # for terminal\n",
    "    \n",
    "    while s<=t and s<len(nums)-1:\n",
    "        if s+nums[s] > t:   # reset the terminal\n",
    "            t = s+nums[s]\n",
    "        s += 1\n",
    "    \n",
    "    return t >= (len(nums)-1)     # check if the final pointer reachable"
   ]
  },
  {
   "cell_type": "markdown",
   "id": "382a6809",
   "metadata": {},
   "source": [
    "### LeetCode 48 [Rotate Images](https://leetcode.com/problems/rotate-image/)"
   ]
  },
  {
   "cell_type": "markdown",
   "id": "d0e100e7",
   "metadata": {},
   "source": [
    "**Solution 1**\n",
    "\n",
    "A direct way is just rotata every entry in the matrix. But you have to be careful to pin down the iteratio range to make sure every entry is rotated exactly once. A good idea is to work with a 5*5 matrix to start."
   ]
  },
  {
   "cell_type": "code",
   "execution_count": 2,
   "id": "9e958f54",
   "metadata": {},
   "outputs": [],
   "source": [
    "class Solution:\n",
    "    def rotate(self, matrix):\n",
    "        \"\"\"\n",
    "        Do not return anything, modify matrix in-place instead.\n",
    "        \"\"\"\n",
    "        n = len(matrix)\n",
    "        for i in range(n//2+n%2):\n",
    "            for j in range(n//2):\n",
    "                temp = matrix[i][j]\n",
    "                matrix[i][j] = matrix[n-1-j][i]\n",
    "                matrix[n-1-j][i] = matrix[n-1-i][n-1-j]\n",
    "                matrix[n-1-i][n-1-j] = matrix[j][n-1-i]\n",
    "                matrix[j][n-1-i] = temp"
   ]
  },
  {
   "cell_type": "markdown",
   "id": "52740ed8",
   "metadata": {},
   "source": [
    "**Solution 2**\n",
    "\n",
    "If you are familiar with linear algebra, you may notice that:\n",
    "\n",
    "rotation (clockwise by 90 degree) = transpose (mirror by diagonal) + reflect (mirror by Y axis)"
   ]
  },
  {
   "cell_type": "code",
   "execution_count": null,
   "id": "3f10d947",
   "metadata": {},
   "outputs": [],
   "source": [
    "class Solution:\n",
    "    def rotate(self, matrix: List[List[int]]) -> None:\n",
    "        \"\"\"\n",
    "        Do not return anything, modify matrix in-place instead.\n",
    "        \"\"\"\n",
    "        self.transpose(matrix)\n",
    "        self.reflect(matrix)\n",
    "    \n",
    "    def transpose(self, matrix):\n",
    "        n = len(matrix)\n",
    "        for i in range(n):\n",
    "            for j in range(i+1, n):\n",
    "                matrix[i][j], matrix[j][i] = matrix[j][i], matrix[i][j]\n",
    "                \n",
    "    def reflect(self, matrix):\n",
    "        n = len(matrix)\n",
    "        for i in range(n):\n",
    "            for j in range(n//2):\n",
    "                matrix[i][j], matrix[i][-j-1] = matrix[i][-j-1], matrix[i][j]"
   ]
  },
  {
   "cell_type": "markdown",
   "id": "2e142cfc",
   "metadata": {},
   "source": [
    "### LeetCode 74. [Search a 2D Matrix](https://leetcode.com/problems/search-a-2d-matrix/)"
   ]
  },
  {
   "cell_type": "markdown",
   "id": "6cf6d499",
   "metadata": {},
   "source": [
    "You may come up with a solution with two binary searches, one for row and the other for column. But why not implement it with only ONE search! Then it is tricky to find the middle element."
   ]
  },
  {
   "cell_type": "code",
   "execution_count": 33,
   "id": "6416ef88",
   "metadata": {},
   "outputs": [],
   "source": [
    "class Solution:\n",
    "    def searchMatrix(self, matrix, target):\n",
    "        m = len(matrix)    # rows\n",
    "        n = len(matrix[0]) # columns\n",
    "        \n",
    "        l= 0     # two pointers: l for left\n",
    "        r = m*n-1    # r for right\n",
    "        while l<= r:\n",
    "            i = (l+r)//2  # get the index \n",
    "            i_entry = matrix[i//n][i%n]   # get the middle element\n",
    "            if target > i_entry:\n",
    "                l = i + 1\n",
    "            elif target < i_entry:\n",
    "                r = i - 1\n",
    "            else:\n",
    "                return True\n",
    "        return False"
   ]
  },
  {
   "cell_type": "code",
   "execution_count": null,
   "id": "5c0bb661",
   "metadata": {},
   "outputs": [],
   "source": []
  }
 ],
 "metadata": {
  "kernelspec": {
   "display_name": "Python 3 (ipykernel)",
   "language": "python",
   "name": "python3"
  },
  "language_info": {
   "codemirror_mode": {
    "name": "ipython",
    "version": 3
   },
   "file_extension": ".py",
   "mimetype": "text/x-python",
   "name": "python",
   "nbconvert_exporter": "python",
   "pygments_lexer": "ipython3",
   "version": "3.9.7"
  }
 },
 "nbformat": 4,
 "nbformat_minor": 5
}
