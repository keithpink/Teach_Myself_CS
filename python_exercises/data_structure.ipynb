{
 "cells": [
  {
   "cell_type": "markdown",
   "id": "bf9cb16f",
   "metadata": {},
   "source": [
    "# Data Structure"
   ]
  },
  {
   "cell_type": "markdown",
   "id": "d9602d0f",
   "metadata": {},
   "source": [
    "Realization of some algorithms are highly dependent on some certain data structues. \n",
    "\n",
    "This notebook contains questions easily be solved by some particular data structures."
   ]
  },
  {
   "cell_type": "markdown",
   "id": "cd1e2c04",
   "metadata": {},
   "source": [
    "---\n",
    "## Hashmap"
   ]
  },
  {
   "cell_type": "markdown",
   "id": "9d986b36",
   "metadata": {},
   "source": [
    "### LeetCode 1. [Two Sum](https://leetcode.com/problems/two-sum/)"
   ]
  },
  {
   "cell_type": "markdown",
   "id": "7c3c41c0",
   "metadata": {},
   "source": [
    "Note: the hashmap in Python is called `dictionary`."
   ]
  },
  {
   "cell_type": "code",
   "execution_count": null,
   "id": "db7b3f32",
   "metadata": {},
   "outputs": [],
   "source": [
    "class Solution(object):\n",
    "    def twoSum(self, nums, target):\n",
    "      \n",
    "        hashmap = dict()\n",
    "        for i, num in enumerate(nums):\n",
    "            diff = target - num\n",
    "            if diff in hashmap:\n",
    "                return[hashmap[diff], i]\n",
    "            hashmap[num] = i \n",
    "        \n",
    "        return []"
   ]
  },
  {
   "cell_type": "markdown",
   "id": "fd98fc34",
   "metadata": {},
   "source": [
    "---\n",
    "## Stack"
   ]
  },
  {
   "cell_type": "markdown",
   "id": "bc9fbde5",
   "metadata": {},
   "source": [
    "### LeetCode 20. [Valid Parentheses](https://leetcode.com/problems/valid-parentheses/)"
   ]
  },
  {
   "cell_type": "markdown",
   "id": "df63508e",
   "metadata": {},
   "source": [
    "You can use `list` in Pyton to instantiate a stack. The other option is `deque`. It is faster but need to be imported from collections library. You can have more details about `deque` [here](https://docs.python.org/3/library/collections.html#collections.deque)"
   ]
  },
  {
   "cell_type": "code",
   "execution_count": 1,
   "id": "92f5b67e",
   "metadata": {},
   "outputs": [],
   "source": [
    "class Solution:\n",
    "    def isValid(self, s):\n",
    "        stack = list()\n",
    "        par = {'(':')', '[':']', '{':'}'}\n",
    "        \n",
    "        for br in s:\n",
    "            if br in par:\n",
    "                stack.append(par[br])\n",
    "            elif not stack:\n",
    "                return False\n",
    "            elif br != stack.pop():\n",
    "                return False\n",
    "        \n",
    "        return not stack"
   ]
  },
  {
   "cell_type": "code",
   "execution_count": null,
   "id": "bb2d01c9",
   "metadata": {},
   "outputs": [],
   "source": []
  }
 ],
 "metadata": {
  "kernelspec": {
   "display_name": "Python 3 (ipykernel)",
   "language": "python",
   "name": "python3"
  },
  "language_info": {
   "codemirror_mode": {
    "name": "ipython",
    "version": 3
   },
   "file_extension": ".py",
   "mimetype": "text/x-python",
   "name": "python",
   "nbconvert_exporter": "python",
   "pygments_lexer": "ipython3",
   "version": "3.9.9"
  }
 },
 "nbformat": 4,
 "nbformat_minor": 5
}
