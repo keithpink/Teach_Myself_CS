{
 "cells": [
  {
   "cell_type": "markdown",
   "id": "f46a7957",
   "metadata": {},
   "source": [
    "# Python Algorthm Exercises"
   ]
  },
  {
   "cell_type": "markdown",
   "id": "4efcf25f",
   "metadata": {},
   "source": [
    "Most questions are from [LeetCode](https://leetcode.com/problemset/all/) "
   ]
  },
  {
   "cell_type": "markdown",
   "id": "382a6809",
   "metadata": {},
   "source": [
    "### LeetCode 48 [Rotate Images](https://leetcode.com/problems/rotate-image/)"
   ]
  },
  {
   "cell_type": "markdown",
   "id": "d0e100e7",
   "metadata": {},
   "source": [
    "**Solution 1**\n",
    "\n",
    "A direct way is just rotata every entry in the matrix. But you have to be careful to pin down the iteratio range to make sure every entry is rotated exactly once. A good idea is to work with a 5*5 matrix to start."
   ]
  },
  {
   "cell_type": "code",
   "execution_count": 2,
   "id": "9e958f54",
   "metadata": {},
   "outputs": [],
   "source": [
    "class Solution:\n",
    "    def rotate(self, matrix):\n",
    "        \"\"\"\n",
    "        Do not return anything, modify matrix in-place instead.\n",
    "        \"\"\"\n",
    "        n = len(matrix)\n",
    "        for i in range(n//2+n%2):\n",
    "            for j in range(n//2):\n",
    "                temp = matrix[i][j]\n",
    "                matrix[i][j] = matrix[n-1-j][i]\n",
    "                matrix[n-1-j][i] = matrix[n-1-i][n-1-j]\n",
    "                matrix[n-1-i][n-1-j] = matrix[j][n-1-i]\n",
    "                matrix[j][n-1-i] = temp"
   ]
  },
  {
   "cell_type": "markdown",
   "id": "52740ed8",
   "metadata": {},
   "source": [
    "**Solution 2**\n",
    "\n",
    "If you are familiar with linear algebra, you may notice that:\n",
    "\n",
    "rotation (clockwise by 90 degree) = transpose (mirror by diagonal) + reflect (mirror by Y axis)"
   ]
  },
  {
   "cell_type": "code",
   "execution_count": null,
   "id": "3f10d947",
   "metadata": {},
   "outputs": [],
   "source": [
    "class Solution:\n",
    "    def rotate(self, matrix: List[List[int]]) -> None:\n",
    "        \"\"\"\n",
    "        Do not return anything, modify matrix in-place instead.\n",
    "        \"\"\"\n",
    "        self.transpose(matrix)\n",
    "        self.reflect(matrix)\n",
    "    \n",
    "    def transpose(self, matrix):\n",
    "        n = len(matrix)\n",
    "        for i in range(n):\n",
    "            for j in range(i+1, n):\n",
    "                matrix[i][j], matrix[j][i] = matrix[j][i], matrix[i][j]\n",
    "                \n",
    "    def reflect(self, matrix):\n",
    "        n = len(matrix)\n",
    "        for i in range(n):\n",
    "            for j in range(n//2):\n",
    "                matrix[i][j], matrix[i][-j-1] = matrix[i][-j-1], matrix[i][j]"
   ]
  }
 ],
 "metadata": {
  "kernelspec": {
   "display_name": "Python 3 (ipykernel)",
   "language": "python",
   "name": "python3"
  },
  "language_info": {
   "codemirror_mode": {
    "name": "ipython",
    "version": 3
   },
   "file_extension": ".py",
   "mimetype": "text/x-python",
   "name": "python",
   "nbconvert_exporter": "python",
   "pygments_lexer": "ipython3",
   "version": "3.9.9"
  }
 },
 "nbformat": 4,
 "nbformat_minor": 5
}
