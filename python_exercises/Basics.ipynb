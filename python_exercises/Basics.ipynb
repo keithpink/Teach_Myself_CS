{
 "cells": [
  {
   "cell_type": "markdown",
   "id": "65a32b48",
   "metadata": {},
   "source": [
    "# Python Basic Exercises"
   ]
  },
  {
   "cell_type": "markdown",
   "id": "1d1e9c58",
   "metadata": {},
   "source": [
    "源地址：[100+ Python challenging programming exercises for Python 3](https://github.com/zhiwehu/Python-programming-exercises/blob/master/100%2B%20Python%20challenging%20programming%20exercises%20for%20Python%203.md)"
   ]
  },
  {
   "cell_type": "markdown",
   "id": "6536347e",
   "metadata": {},
   "source": [
    "### Question 1\n",
    "Write a program which will find all such numbers which are divisible by 7 but are not a multiple of 5, between 2000 and 3200 (both included). The numbers obtained should be printed in a comma-separated sequence on a single line."
   ]
  },
  {
   "cell_type": "code",
   "execution_count": 23,
   "id": "07aeb5b4",
   "metadata": {},
   "outputs": [
    {
     "name": "stdout",
     "output_type": "stream",
     "text": [
      "2002,2009,2016,2023,2037,2044,2051,2058,2072,2079,2086,2093,2107,2114,2121,2128,2142,2149,2156,2163,2177,2184,2191,2198,2212,2219,2226,2233,2247,2254,2261,2268,2282,2289,2296,2303,2317,2324,2331,2338,2352,2359,2366,2373,2387,2394,2401,2408,2422,2429,2436,2443,2457,2464,2471,2478,2492,2499,2506,2513,2527,2534,2541,2548,2562,2569,2576,2583,2597,2604,2611,2618,2632,2639,2646,2653,2667,2674,2681,2688,2702,2709,2716,2723,2737,2744,2751,2758,2772,2779,2786,2793,2807,2814,2821,2828,2842,2849,2856,2863,2877,2884,2891,2898,2912,2919,2926,2933,2947,2954,2961,2968,2982,2989,2996,3003,3017,3024,3031,3038,3052,3059,3066,3073,3087,3094,3101,3108,3122,3129,3136,3143,3157,3164,3171,3178,3192,3199\n"
     ]
    }
   ],
   "source": [
    "ls = []\n",
    "for i in range(2000, 3201):\n",
    "    if (i%7==0) and (i%5!=0):\n",
    "        ls.append(str(i))\n",
    "print(','.join(ls)) \n",
    "    "
   ]
  },
  {
   "cell_type": "markdown",
   "id": "72040a71",
   "metadata": {},
   "source": [
    "### Question 2\n",
    "Write a program which can compute the factorial of a given numbers. The results should be printed in a comma-separated sequence on a single line. Suppose the following input is supplied to the program: 8 Then, the output should be: 40320"
   ]
  },
  {
   "cell_type": "code",
   "execution_count": 4,
   "id": "3778874e",
   "metadata": {},
   "outputs": [
    {
     "name": "stdout",
     "output_type": "stream",
     "text": [
      "8\n",
      "40320\n"
     ]
    }
   ],
   "source": [
    "def factorial(n):\n",
    "    if n==0:\n",
    "        return 1\n",
    "    else:\n",
    "        return n*factorial(n-1)\n",
    "\n",
    "x = int(input())\n",
    "print(factorial(x))"
   ]
  },
  {
   "cell_type": "markdown",
   "id": "49bd902f",
   "metadata": {},
   "source": [
    "### Question 3\n",
    "Question: With a given integral number n, write a program to generate a dictionary that contains (i, i*i) such that is an integral number between 1 and n (both included). and then the program should print the dictionary. Suppose the following input is supplied to the program: 8 Then, the output should be: {1: 1, 2: 4, 3: 9, 4: 16, 5: 25, 6: 36, 7: 49, 8: 64}"
   ]
  },
  {
   "cell_type": "code",
   "execution_count": 9,
   "id": "5a512b53",
   "metadata": {},
   "outputs": [
    {
     "name": "stdout",
     "output_type": "stream",
     "text": [
      "4\n",
      "{1: 1, 2: 4, 3: 9, 4: 16}\n"
     ]
    }
   ],
   "source": [
    "def sqrd(n):\n",
    "    d = dict()\n",
    "    for i in range(1,n+1):\n",
    "        d[i] = i*i\n",
    "    return d\n",
    "\n",
    "x = int(input())\n",
    "print(sqrd(x))"
   ]
  },
  {
   "cell_type": "markdown",
   "id": "814bd810",
   "metadata": {},
   "source": [
    "### Question 4\n",
    "Question: Write a program which accepts a sequence of comma-separated numbers from console and generate a list and a tuple which contains every number. Suppose the following input is supplied to the program: 34,67,55,33,12,98 Then, the output should be: ['34', '67', '55', '33', '12', '98'] ('34', '67', '55', '33', '12', '98')"
   ]
  },
  {
   "cell_type": "code",
   "execution_count": 10,
   "id": "34be04b3",
   "metadata": {},
   "outputs": [
    {
     "name": "stdout",
     "output_type": "stream",
     "text": [
      "34,67,55\n",
      "['34', '67', '55']\n",
      "('34', '67', '55')\n"
     ]
    }
   ],
   "source": [
    "values=input()\n",
    "l=values.split(\",\")\n",
    "t=tuple(l)\n",
    "print(l)\n",
    "print(t)"
   ]
  },
  {
   "cell_type": "markdown",
   "id": "11a4a9b0",
   "metadata": {},
   "source": [
    "### Question 5\n",
    "Define a class which has at least two methods: getString: to get a string from console input printString: to print the string in upper case. Also please include simple test function to test the class methods."
   ]
  },
  {
   "cell_type": "code",
   "execution_count": null,
   "id": "b6d77b3a",
   "metadata": {},
   "outputs": [],
   "source": [
    "class InputOutString(object):\n",
    "    def __init__(self):\n",
    "        self.s = \"\"\n",
    "\n",
    "    def getString(self):\n",
    "        self.s = input()\n",
    "    \n",
    "    def printString(self):\n",
    "        print(self.s.upper())"
   ]
  },
  {
   "cell_type": "markdown",
   "id": "ebfbbde1",
   "metadata": {},
   "source": [
    "### Question 6\n",
    "Write a program that calculates and prints the value according to the given formula: Q = Square root of [(2 * C * D)/H] Following are the fixed values of C and H: C is 50. H is 30. D is the variable whose values should be input to your program in a comma-separated sequence. Example Let us assume the following comma separated input sequence is given to the program: 100,150,180 The output of the program should be: 18,22,24"
   ]
  },
  {
   "cell_type": "code",
   "execution_count": 50,
   "id": "1b71bc1f",
   "metadata": {},
   "outputs": [
    {
     "name": "stdout",
     "output_type": "stream",
     "text": [
      "100,150,180\n",
      "18,22,24\n"
     ]
    }
   ],
   "source": [
    "import math\n",
    "\n",
    "ls = []\n",
    "items = [x for x in input().split(',')]\n",
    "\n",
    "for i in items:\n",
    "    ls.append(str(formular(int(i))))\n",
    "print(','.join(ls))    \n",
    "    \n",
    "def formular(D):\n",
    "    C = 50\n",
    "    H = 30\n",
    "    Q = round( math.sqrt((2*C*D)/H) )\n",
    "    return Q\n"
   ]
  },
  {
   "cell_type": "markdown",
   "id": "477c89cf",
   "metadata": {},
   "source": [
    "### Question 7\n",
    "Write a program which takes 2 digits, X,Y as input and generates a 2-dimensional array. The element value in the i-th row and j-th column of the array should be i*j. Note: i=0,1.., X-1; j=0,1,¡­Y-1. Example Suppose the following inputs are given to the program: 3,5 Then, the output of the program should be: [[0, 0, 0, 0, 0], [0, 1, 2, 3, 4], [0, 2, 4, 6, 8]]"
   ]
  },
  {
   "cell_type": "code",
   "execution_count": 7,
   "id": "a843102c",
   "metadata": {},
   "outputs": [
    {
     "name": "stdout",
     "output_type": "stream",
     "text": [
      "3,5\n",
      "[[0 0 0 0 0]\n",
      " [0 1 2 3 4]\n",
      " [0 2 4 6 8]]\n"
     ]
    }
   ],
   "source": [
    "import numpy as np\n",
    "\n",
    "para = input().split(',')\n",
    "X = int(para[0])\n",
    "Y = int(para[1])\n",
    "m = np.ones([X,Y], int)\n",
    "\n",
    "for i in range(X):\n",
    "    for j in range(Y):\n",
    "        m[i,j] = i*j\n",
    "print(m)\n",
    "\n",
    "    "
   ]
  },
  {
   "cell_type": "markdown",
   "id": "c907e8f3",
   "metadata": {},
   "source": [
    "### Question 8\n",
    "Write a program that accepts a comma separated sequence of words as input and prints the words in a comma-separated sequence after sorting them alphabetically. Suppose the following input is supplied to the program: without,hello,bag,world Then, the output should be: bag,hello,without,world"
   ]
  },
  {
   "cell_type": "code",
   "execution_count": 41,
   "id": "ff55e85e",
   "metadata": {},
   "outputs": [
    {
     "name": "stdout",
     "output_type": "stream",
     "text": [
      "without,hello,bag,world\n",
      "hello\n",
      "['bag', 'hello', 'without', 'world']\n"
     ]
    }
   ],
   "source": [
    "ls = input().split(',')\n",
    "print(ls[1])\n",
    "ls.sort()\n",
    "print(ls)"
   ]
  },
  {
   "cell_type": "code",
   "execution_count": 43,
   "id": "4732c766",
   "metadata": {},
   "outputs": [
    {
     "name": "stdout",
     "output_type": "stream",
     "text": [
      "without,hello,bag,world\n",
      "hello\n",
      "['bag', 'hello', 'without', 'world']\n"
     ]
    }
   ],
   "source": [
    "ls = [x for x in input().split(',')]\n",
    "print(ls[1])\n",
    "ls.sort()\n",
    "print(ls)"
   ]
  },
  {
   "cell_type": "markdown",
   "id": "9cc6df72",
   "metadata": {},
   "source": [
    "### Question 9\n",
    " Write a program that accepts sequence of lines as input and prints the lines after making all characters in the sentence capitalized. Suppose the following input is supplied to the program: Hello world Practice makes perfect Then, the output should be: HELLO WORLD PRACTICE MAKES PERFECT"
   ]
  },
  {
   "cell_type": "code",
   "execution_count": 47,
   "id": "02cba262",
   "metadata": {},
   "outputs": [
    {
     "name": "stdout",
     "output_type": "stream",
     "text": [
      "Hello world Practice makes perfect\n",
      "HELLO WORLD PRACTICE MAKES PERFECT\n"
     ]
    }
   ],
   "source": [
    "ls = [str.upper(x) for x in input().split(' ')]\n",
    "print(' '.join(ls))"
   ]
  },
  {
   "cell_type": "code",
   "execution_count": null,
   "id": "229cffd3",
   "metadata": {},
   "outputs": [],
   "source": [
    "# 标准答案的程序貌似有什么问题\n",
    "\n",
    "lines = []   \n",
    "while True:\n",
    "    s = input()\n",
    "    if s:\n",
    "        lines.append(s.upper())\n",
    "    else:\n",
    "        break;\n",
    "\n",
    "for sentence in lines:\n",
    "    print(sentence)"
   ]
  },
  {
   "cell_type": "markdown",
   "id": "e9184e3d",
   "metadata": {},
   "source": [
    "### Question 10\n",
    "Write a program that accepts a sequence of whitespace separated words as input and prints the words after removing all duplicate words and sorting them alphanumerically. Suppose the following input is supplied to the program: hello world and practice makes perfect and hello world again Then, the output should be: again and hello makes perfect practice world"
   ]
  },
  {
   "cell_type": "code",
   "execution_count": 2,
   "id": "b27ab716",
   "metadata": {},
   "outputs": [
    {
     "name": "stdout",
     "output_type": "stream",
     "text": [
      "hello world and practice makes perfect and hello world again\n",
      "again and hello makes perfect practice world\n"
     ]
    }
   ],
   "source": [
    "ls = [x for x in input().split(' ')]\n",
    "print(' '.join( sorted( set( ls ) )  ))"
   ]
  },
  {
   "cell_type": "markdown",
   "id": "7745957d",
   "metadata": {},
   "source": [
    "### Question 11\n",
    "Write a program which accepts a sequence of comma separated 4 digit binary numbers as its input and then check whether they are divisible by 5 or not. The numbers that are divisible by 5 are to be printed in a comma separated sequence. Example: 0100,0011,1010,1001 Then the output should be: 1010 Notes: Assume the data is input by console"
   ]
  },
  {
   "cell_type": "code",
   "execution_count": 15,
   "id": "0e87d0bd",
   "metadata": {},
   "outputs": [
    {
     "name": "stdout",
     "output_type": "stream",
     "text": [
      "0100,0011,1010,1001\n",
      "0b1010\n"
     ]
    }
   ],
   "source": [
    "ls = [int(x,2) for x in input().split(',') ]\n",
    "num = []\n",
    "for i in ls:\n",
    "    if i%5 == 0:\n",
    "        num.append(bin(i))\n",
    "print(','.join(num))\n",
    "    "
   ]
  },
  {
   "cell_type": "markdown",
   "id": "465fdad4",
   "metadata": {},
   "source": [
    "### Question 12\n",
    "Write a program, which will find all such numbers between 1000 and 3000 (both included) such that each digit of the number is an even number. The numbers obtained should be printed in a comma-separated sequence on a single line."
   ]
  },
  {
   "cell_type": "code",
   "execution_count": 23,
   "id": "447a3ddc",
   "metadata": {},
   "outputs": [
    {
     "name": "stdout",
     "output_type": "stream",
     "text": [
      "2000,2002,2004,2006,2008,2020,2022,2024,2026,2028,2040,2042,2044,2046,2048,2060,2062,2064,2066,2068,2080,2082,2084,2086,2088,2200,2202,2204,2206,2208,2220,2222,2224,2226,2228,2240,2242,2244,2246,2248,2260,2262,2264,2266,2268,2280,2282,2284,2286,2288,2400,2402,2404,2406,2408,2420,2422,2424,2426,2428,2440,2442,2444,2446,2448,2460,2462,2464,2466,2468,2480,2482,2484,2486,2488,2600,2602,2604,2606,2608,2620,2622,2624,2626,2628,2640,2642,2644,2646,2648,2660,2662,2664,2666,2668,2680,2682,2684,2686,2688,2800,2802,2804,2806,2808,2820,2822,2824,2826,2828,2840,2842,2844,2846,2848,2860,2862,2864,2866,2868,2880,2882,2884,2886,2888\n"
     ]
    }
   ],
   "source": [
    "even = []\n",
    "for i in range(1000,3001):\n",
    "    s = str(i)\n",
    "    if (int(s[0])%2 == 0) and (int(s[1])%2 == 0) and (int(s[2])%2 == 0) and (int(s[3])%2 == 0):\n",
    "        even.append(s)\n",
    "print(','.join(even))"
   ]
  },
  {
   "cell_type": "markdown",
   "id": "22d74821",
   "metadata": {},
   "source": [
    "### Question 13\n",
    "Write a program that accepts a sentence and calculate the number of letters and digits. Suppose the following input is supplied to the program: hello world! 123 Then, the output should be: LETTERS 10 DIGITS 3"
   ]
  },
  {
   "cell_type": "code",
   "execution_count": 36,
   "id": "c07f974b",
   "metadata": {},
   "outputs": [
    {
     "name": "stdout",
     "output_type": "stream",
     "text": [
      "hello world! 123\n",
      "LETTERS 10\n",
      "DIGITS 3\n"
     ]
    }
   ],
   "source": [
    "s = input()\n",
    "d={\"DIGITS\":0, \"LETTERS\":0}\n",
    "for c in s:\n",
    "    if c.isdigit():\n",
    "        d[\"DIGITS\"]+=1\n",
    "    elif c.isalpha():\n",
    "        d[\"LETTERS\"]+=1\n",
    "    else:\n",
    "        pass\n",
    "print(\"LETTERS\", d[\"LETTERS\"])\n",
    "print(\"DIGITS\", d[\"DIGITS\"])"
   ]
  },
  {
   "cell_type": "markdown",
   "id": "7196309f",
   "metadata": {},
   "source": [
    "### Question 14\n",
    "Write a program that accepts a sentence and calculate the number of upper case letters and lower case letters. Suppose the following input is supplied to the program: Hello world! Then, the output should be: UPPER CASE 1 LOWER CASE 9"
   ]
  },
  {
   "cell_type": "code",
   "execution_count": 37,
   "id": "05d7dada",
   "metadata": {},
   "outputs": [
    {
     "name": "stdout",
     "output_type": "stream",
     "text": [
      "Hello world! \n",
      "UPPER CASE 1\n",
      "LOWER CASE 9\n"
     ]
    }
   ],
   "source": [
    "s = input()\n",
    "d={\"UPPER CASE\":0, \"LOWER CASE\":0}\n",
    "for c in s:\n",
    "    if c.isupper():\n",
    "        d[\"UPPER CASE\"]+=1\n",
    "    elif c.islower():\n",
    "        d[\"LOWER CASE\"]+=1\n",
    "    else:\n",
    "        pass\n",
    "print(\"UPPER CASE\", d[\"UPPER CASE\"])\n",
    "print(\"LOWER CASE\", d[\"LOWER CASE\"])"
   ]
  },
  {
   "cell_type": "markdown",
   "id": "3b43752f",
   "metadata": {},
   "source": [
    "### Question 15\n",
    "Write a program that computes the value of a+aa+aaa+aaaa with a given digit as the value of a. Suppose the following input is supplied to the program: 9 Then, the output should be: 11106"
   ]
  },
  {
   "cell_type": "code",
   "execution_count": 10,
   "id": "bcdeac62",
   "metadata": {},
   "outputs": [
    {
     "name": "stdout",
     "output_type": "stream",
     "text": [
      "9\n",
      "11106\n"
     ]
    }
   ],
   "source": [
    "def summ(a):\n",
    "    s = 0\n",
    "    ls = '1111'\n",
    "    for i in range(4):\n",
    "        s = s + a* int (ls[0:i+1])\n",
    "    return s\n",
    "a = input()\n",
    "print(summ(int(a)))"
   ]
  },
  {
   "cell_type": "code",
   "execution_count": 2,
   "id": "21b4323c",
   "metadata": {},
   "outputs": [
    {
     "name": "stdout",
     "output_type": "stream",
     "text": [
      "9\n",
      "11106\n"
     ]
    }
   ],
   "source": [
    "a = input()\n",
    "n1 = int( \"%s\" % a )\n",
    "n2 = int( \"%s%s\" % (a,a) )\n",
    "n3 = int( \"%s%s%s\" % (a,a,a) )\n",
    "n4 = int( \"%s%s%s%s\" % (a,a,a,a) )\n",
    "print(n1+n2+n3+n4)"
   ]
  },
  {
   "cell_type": "markdown",
   "id": "521a2269",
   "metadata": {},
   "source": [
    "### Question 16\n",
    " Use a list comprehension to square each odd number in a list. The list is input by a sequence of comma-separated numbers. Suppose the following input is supplied to the program: 1,2,3,4,5,6,7,8,9 Then, the output should be: 1,3,5,7,9"
   ]
  },
  {
   "cell_type": "code",
   "execution_count": 3,
   "id": "e1a38dfc",
   "metadata": {},
   "outputs": [
    {
     "name": "stdout",
     "output_type": "stream",
     "text": [
      "1,2,3,4,5,6,7,8,9\n",
      "1,3,5,7,9\n"
     ]
    }
   ],
   "source": [
    "ls = [int(x) for x in input().split(',')]\n",
    "odd = []\n",
    "for num in ls:\n",
    "    if num%2 == 1:\n",
    "        odd.append(str(num))\n",
    "print(','.join(odd))"
   ]
  },
  {
   "cell_type": "code",
   "execution_count": 7,
   "id": "e5088087",
   "metadata": {},
   "outputs": [
    {
     "name": "stdout",
     "output_type": "stream",
     "text": [
      "1,2,3,4,5,6,7,8,9\n",
      "1,3,5,7,9\n"
     ]
    }
   ],
   "source": [
    "values = input()\n",
    "numbers = [x for x in values.split(\",\") if int(x)%2!=0]\n",
    "print(\",\".join(numbers))"
   ]
  },
  {
   "cell_type": "markdown",
   "id": "16baa75e",
   "metadata": {},
   "source": [
    "### Question 17\n",
    "Write a program that computes the net amount of a bank account based a transaction log from console input. The transaction log format is shown as following: D 100 W 200\n",
    "\n",
    "D means deposit while W means withdrawal. Suppose the following input is supplied to the program: D 300 D 300 W 200 D 100 Then, the output should be: 500"
   ]
  },
  {
   "cell_type": "code",
   "execution_count": 17,
   "id": "d0240b59",
   "metadata": {
    "scrolled": true
   },
   "outputs": [
    {
     "name": "stdout",
     "output_type": "stream",
     "text": [
      "D 300\n",
      "300\n",
      "\n"
     ]
    }
   ],
   "source": [
    "Balance = 0\n",
    "while True:\n",
    "    value = input()\n",
    "    if not value:\n",
    "        break\n",
    "    else:\n",
    "        trans = value.split(' ')\n",
    "        operation = trans[0]\n",
    "        amount = int(trans[1])\n",
    "        if operation == \"D\":\n",
    "            Balance += amount\n",
    "        elif operation == \"W\":\n",
    "            Balance -= amount\n",
    "        else:\n",
    "            pass\n",
    "\n",
    "    print(Balance)"
   ]
  },
  {
   "cell_type": "markdown",
   "id": "5118678b",
   "metadata": {},
   "source": [
    "### Question 18\n",
    "A website requires the users to input username and password to register. Write a program to check the validity of password input by users. Following are the criteria for checking the password:\n",
    "\n",
    "At least 1 letter between [a-z]  \n",
    "At least 1 number between [0-9]  \n",
    "At least 1 letter between [A-Z]  \n",
    "At least 1 character from [$#@]  \n",
    "Minimum length of transaction password: 6  \n",
    "Maximum length of transaction password: 12   \n",
    "Your program should accept a sequence of comma separated passwords and will check them according to the above criteria. Passwords that match the criteria are to be printed, each separated by a comma. Example If the following passwords are given as input to the program: ABd1234@1,a F1#,2w3E*,2We3345 Then, the output of the program should be: ABd1234@1"
   ]
  },
  {
   "cell_type": "code",
   "execution_count": 15,
   "id": "75e92093",
   "metadata": {},
   "outputs": [
    {
     "name": "stdout",
     "output_type": "stream",
     "text": [
      "ABd1234@1,a F1#,2w3E*,2We3345 \n",
      "['ABd1234@1']\n"
     ]
    }
   ],
   "source": [
    "import re\n",
    "codes = [x for x in input().split(',')]\n",
    "password= []\n",
    "\n",
    "for code in codes:\n",
    "    if  (len(code)<6) and (len(code)>12):\n",
    "        continue\n",
    "    else:\n",
    "        pass\n",
    "    \n",
    "    if not re.search('[a-z]', code):\n",
    "        continue\n",
    "    elif not re.search('[A-Z]', code):\n",
    "        continue\n",
    "    elif not re.search('[0-9]', code):\n",
    "        continue\n",
    "    elif not re.search('[$#@]', code):\n",
    "        continue\n",
    "    elif re.search('[\\s]', code):\n",
    "        continue\n",
    "    else:\n",
    "        pass\n",
    "    \n",
    "    password.append(code)\n",
    "print(password)\n",
    "    "
   ]
  },
  {
   "cell_type": "markdown",
   "id": "79102af3",
   "metadata": {},
   "source": [
    "### Question 19\n",
    "You are required to write a program to sort the (name, age, height) tuples by ascending order where name is string, age and height are numbers. The tuples are input by console. The sort criteria is: 1: Sort based on name; 2: Then sort based on age; 3: Then sort by score. The priority is that name > age > score. If the following tuples are given as input to the program: Tom,19,80 John,20,90 Jony,17,91 Jony,17,93 Json,21,85 Then, the output of the program should be: [('John', '20', '90'), ('Jony', '17', '91'), ('Jony', '17', '93'), ('Json', '21', '85'), ('Tom', '19', '80')]"
   ]
  },
  {
   "cell_type": "code",
   "execution_count": 22,
   "id": "5ba7a8ed",
   "metadata": {},
   "outputs": [
    {
     "name": "stdout",
     "output_type": "stream",
     "text": [
      "Tom,19,80\n",
      "John,20,90\n",
      "Jony,17,91\n",
      "\n",
      "[('John', '20', '90'), ('Jony', '17', '91'), ('Tom', '19', '80')]\n"
     ]
    }
   ],
   "source": [
    "from operator import itemgetter, attrgetter\n",
    "info = []\n",
    "while True:\n",
    "    value = input()\n",
    "    if not value:\n",
    "        break\n",
    "    else:\n",
    "        info.append(tuple(value.split(',')))\n",
    "\n",
    "print(sorted(info, key=itemgetter(0,1,2)))\n"
   ]
  },
  {
   "cell_type": "markdown",
   "id": "cca2691f",
   "metadata": {},
   "source": [
    "### Question 20\n",
    "Define a class with a generator which can iterate the numbers, which are divisible by 7, between a given range 0 and n."
   ]
  },
  {
   "cell_type": "code",
   "execution_count": 49,
   "id": "4c74c6ef",
   "metadata": {},
   "outputs": [
    {
     "name": "stdout",
     "output_type": "stream",
     "text": [
      "0\n",
      "7\n",
      "14\n",
      "21\n",
      "28\n",
      "35\n",
      "42\n",
      "49\n",
      "56\n",
      "63\n"
     ]
    }
   ],
   "source": [
    "def seven(n):\n",
    "    for i in range(n):\n",
    "        if i%7 == 0:\n",
    "            yield i\n",
    "\n",
    "for i in seven(70):     \n",
    "    print(i)"
   ]
  },
  {
   "cell_type": "markdown",
   "id": "7147b26c",
   "metadata": {},
   "source": [
    "### Question 21\n",
    "A robot moves in a plane starting from the original point (0,0). The robot can move toward UP, DOWN, LEFT and RIGHT with a given steps. The trace of robot movement is shown as the following: UP 5 DOWN 3 LEFT 3 RIGHT 2 ¡­ The numbers after the direction are steps. Please write a program to compute the distance from current position after a sequence of movement and original point. If the distance is a float, then just print the nearest integer. Example: If the following tuples are given as input to the program: UP 5 DOWN 3 LEFT 3 RIGHT 2 Then, the output of the program should be: 2"
   ]
  },
  {
   "cell_type": "code",
   "execution_count": 78,
   "id": "4852bc49",
   "metadata": {},
   "outputs": [],
   "source": [
    "import math\n",
    "class robot:\n",
    "    def __init__(self, cood):\n",
    "        self.cood = cood\n",
    "        self.dist = 0\n",
    "    \n",
    "    def up(self, n):\n",
    "        self.cood[1] += n\n",
    "    def down(self, n):\n",
    "        self.cood[1] -= n\n",
    "    def left(self, n):\n",
    "        self.cood[0] -= n\n",
    "    def right(self, n):\n",
    "        self.cood[0] += n\n",
    "        \n",
    "    def locat(self, target):\n",
    "        self.dist = int(math.sqrt( (target[0]- self.cood[0] )**2 + (target[1] - self.cood[1])**2 ))\n",
    "        return self.dist"
   ]
  },
  {
   "cell_type": "code",
   "execution_count": 79,
   "id": "2412e7e4",
   "metadata": {},
   "outputs": [
    {
     "name": "stdout",
     "output_type": "stream",
     "text": [
      "DOWN 3\n",
      "UP 5\n",
      "\n",
      "2.0\n"
     ]
    }
   ],
   "source": [
    "rob1 = robot([0,0])\n",
    "while True:\n",
    "    s = input()\n",
    "    if not s:\n",
    "        break\n",
    "    else:\n",
    "        move = s.split(' ')\n",
    "    direction = move[0]\n",
    "    steps = int(move[1])\n",
    "    if direction==\"UP\":\n",
    "        rob1.up(steps)\n",
    "    elif direction==\"DOWN\":\n",
    "        rob1.down(steps)\n",
    "    elif direction==\"LEFT\":\n",
    "        rob1.left(steps)\n",
    "    elif direction==\"RIGHT\":\n",
    "        rob1.right(steps)\n",
    "    else:\n",
    "        pass\n",
    "print(rob1.locat([0,0]))"
   ]
  },
  {
   "cell_type": "markdown",
   "id": "4f600811",
   "metadata": {},
   "source": [
    "### Question 22\n",
    "Write a program to compute the frequency of the words from the input. The output should output after sorting the key alphanumerically. Suppose the following input is supplied to the program: New to Python or choosing between Python 2 and Python 3? Read Python 2 or Python 3. Then, the output should be: 2:2 3.:1 3?:1 New:1 Python:5 Read:1 and:1 between:1 choosing:1 or:2 to:1"
   ]
  },
  {
   "cell_type": "code",
   "execution_count": 92,
   "id": "38a2f314",
   "metadata": {},
   "outputs": [
    {
     "name": "stdout",
     "output_type": "stream",
     "text": [
      "New to Python or choosing between Python 2 and Python 3? Read Python 2 or Python 3\n",
      "2:2\n",
      "3:1\n",
      "3?:1\n",
      "New:1\n",
      "Python:5\n",
      "Read:1\n",
      "and:1\n",
      "between:1\n",
      "choosing:1\n",
      "or:2\n",
      "to:1\n"
     ]
    }
   ],
   "source": [
    "freq = {}\n",
    "ls = [x for x in input().split()]\n",
    "for word in ls:\n",
    "    freq[word] = freq.get(word,0)+1\n",
    "\n",
    "for w in sorted(freq.keys()):\n",
    "    print(\"%s:%d\" % (w,freq[w]))"
   ]
  },
  {
   "cell_type": "markdown",
   "id": "3a31a1fa",
   "metadata": {},
   "source": [
    "### Question 24\n",
    "Python has many built-in functions, and if you do not know how to use it, you can read document online or find some books. But Python has a built-in document function for every built-in functions.\n",
    "\n",
    "Please write a program to print some Python built-in functions documents, such as abs(), int(), raw_input()"
   ]
  },
  {
   "cell_type": "code",
   "execution_count": 9,
   "id": "5b579b7e",
   "metadata": {},
   "outputs": [
    {
     "name": "stdout",
     "output_type": "stream",
     "text": [
      "Return the absolute value of the argument.\n",
      "int([x]) -> integer\n",
      "int(x, base=10) -> integer\n",
      "\n",
      "Convert a number or string to an integer, or return 0 if no arguments\n",
      "are given.  If x is a number, return x.__int__().  For floating point\n",
      "numbers, this truncates towards zero.\n",
      "\n",
      "If x is not a number or if base is given, then x must be a string,\n",
      "bytes, or bytearray instance representing an integer literal in the\n",
      "given base.  The literal can be preceded by '+' or '-' and be surrounded\n",
      "by whitespace.  The base defaults to 10.  Valid bases are 0 and 2-36.\n",
      "Base 0 means to interpret the base from the string as an integer literal.\n",
      ">>> int('0b100', base=0)\n",
      "4\n",
      "Forward raw_input to frontends\n",
      "\n",
      "        Raises\n",
      "        ------\n",
      "        StdinNotImplementedError if active frontend doesn't support stdin.\n",
      "        \n",
      "4\n",
      "Return the square value of the input number.\n",
      "    \n",
      "    The input number must be integer.\n",
      "    \n"
     ]
    }
   ],
   "source": [
    "print(abs.__doc__)\n",
    "print(int.__doc__)\n",
    "print(input.__doc__)\n",
    "\n",
    "def square(num):\n",
    "    '''Return the square value of the input number.\n",
    "    \n",
    "    The input number must be integer.\n",
    "    '''\n",
    "    return num ** 2\n",
    "\n",
    "print(square(2))\n",
    "print(square.__doc__)"
   ]
  },
  {
   "cell_type": "markdown",
   "id": "453ea2a2",
   "metadata": {},
   "source": [
    "### Question 31\n",
    "Define a function that can accept two strings as input and print the string with maximum length in console. If two strings have the same length, then the function should print al l strings line by line."
   ]
  },
  {
   "cell_type": "code",
   "execution_count": 96,
   "id": "77ba7333",
   "metadata": {},
   "outputs": [
    {
     "name": "stdout",
     "output_type": "stream",
     "text": [
      "threee\n"
     ]
    }
   ],
   "source": [
    "def maxline(str1, str2):\n",
    "    if len(str1) > len(str2):\n",
    "        print(str1)\n",
    "    elif len(str2) >len(str1):\n",
    "        print(str2)\n",
    "    else:\n",
    "        print(str1)\n",
    "        print(str2)\n",
    "\n",
    "maxline('one', 'threee')"
   ]
  },
  {
   "cell_type": "markdown",
   "id": "cb3f2ddc",
   "metadata": {},
   "source": [
    "### Question 33\n",
    "Define a function which can print a dictionary where the keys are numbers between 1 and 3 (both included) and the values are square of keys.\n"
   ]
  },
  {
   "cell_type": "code",
   "execution_count": 104,
   "id": "5d2607e9",
   "metadata": {},
   "outputs": [
    {
     "name": "stdout",
     "output_type": "stream",
     "text": [
      "{1: 1, 2: 4, 3: 9}\n",
      "1\n",
      "4\n",
      "9\n"
     ]
    }
   ],
   "source": [
    "def printdict():\n",
    "    dic = dict()\n",
    "    for i in range(1,4):\n",
    "        dic[i] = i*i\n",
    "    print(dic)\n",
    "\n",
    "    for k,v in dic.items():\n",
    "        print(v)\n",
    "    \n",
    "printdict()"
   ]
  },
  {
   "cell_type": "markdown",
   "id": "21a5fb5e",
   "metadata": {},
   "source": [
    "### Question 41\n",
    "Define a function which can generate and print a tuple where the value are square of numbers between 1 and 20 (both included)."
   ]
  },
  {
   "cell_type": "code",
   "execution_count": 111,
   "id": "dbedef5e",
   "metadata": {},
   "outputs": [
    {
     "name": "stdout",
     "output_type": "stream",
     "text": [
      "(0, 1, 4, 9, 16, 25, 36, 49, 64, 81, 100, 121, 144, 169, 196, 225, 256, 289, 324, 361)\n"
     ]
    }
   ],
   "source": [
    "def printtuple():\n",
    "    t = list()\n",
    "    for i in range(20):\n",
    "        t.append(i**2)\n",
    "    print(tuple(t))\n",
    "\n",
    "printtuple()\n",
    "    "
   ]
  },
  {
   "cell_type": "markdown",
   "id": "be5b4e5f",
   "metadata": {},
   "source": [
    "### Question 42\n",
    "With a given tuple (1,2,3,4,5,6,7,8,9,10), write a program to print the first half values in one line and the last half values in one line."
   ]
  },
  {
   "cell_type": "code",
   "execution_count": 1,
   "id": "adf08a9b",
   "metadata": {},
   "outputs": [
    {
     "name": "stdout",
     "output_type": "stream",
     "text": [
      "(1, 2, 3, 4, 5)\n",
      "(6, 7, 8, 9, 10)\n"
     ]
    }
   ],
   "source": [
    "t =  (1,2,3,4,5,6,7,8,9,10)\n",
    "n = len(t)\n",
    "print(t[:n//2])\n",
    "print(t[n//2:])"
   ]
  },
  {
   "cell_type": "markdown",
   "id": "6c1667fb",
   "metadata": {},
   "source": [
    "### Question 43\n",
    "Write a program to generate and print another tuple whose values are even numbers in the given tuple (1,2,3,4,5,6,7,8,9,10)."
   ]
  },
  {
   "cell_type": "code",
   "execution_count": 3,
   "id": "46a019ea",
   "metadata": {},
   "outputs": [
    {
     "name": "stdout",
     "output_type": "stream",
     "text": [
      "(2, 4, 6, 8, 10)\n"
     ]
    }
   ],
   "source": [
    "t = (1,2,3,4,5,6,7,8,9,10)\n",
    "ls = list()\n",
    "for i in range(len(t)):\n",
    "    if t[i]%2 == 0:\n",
    "        ls.append(t[i])\n",
    "\n",
    "t2 = tuple(ls)\n",
    "print(t2)"
   ]
  },
  {
   "cell_type": "markdown",
   "id": "22dc866e",
   "metadata": {},
   "source": [
    "### Question 45\n",
    "Write a program which can filter even numbers in a list by using filter function. The list is: [1,2,3,4,5,6,7,8,9,10]."
   ]
  },
  {
   "cell_type": "code",
   "execution_count": 8,
   "id": "9d66a8dc",
   "metadata": {},
   "outputs": [
    {
     "name": "stdout",
     "output_type": "stream",
     "text": [
      "[2, 4, 6, 8, 10]\n"
     ]
    }
   ],
   "source": [
    "ls = [1,2,3,4,5,6,7,8,9,10]\n",
    "even = filter(lambda x: x%2==0, ls)\n",
    "print(list(even))"
   ]
  },
  {
   "cell_type": "markdown",
   "id": "e966d48a",
   "metadata": {},
   "source": [
    "### Question 46\n",
    "Write a program which can map() to make a list whose elements are square of elements in [1,2,3,4,5,6,7,8,9,10]"
   ]
  },
  {
   "cell_type": "code",
   "execution_count": 41,
   "id": "5b851452",
   "metadata": {},
   "outputs": [
    {
     "name": "stdout",
     "output_type": "stream",
     "text": [
      "[1, 4, 9, 16, 25, 36, 49, 64, 81, 100]\n"
     ]
    }
   ],
   "source": [
    "ls = [1,2,3,4,5,6,7,8,9,10]\n",
    "sq = list(map(lambda x: x**2, ls))\n",
    "print(sq)"
   ]
  },
  {
   "cell_type": "markdown",
   "id": "5df2a5b4",
   "metadata": {},
   "source": [
    "### Question 47\n",
    "Write a program which can map() and filter() to make a list whose elements are square of even number in [1,2,3,4,5,6,7,8,9,10]."
   ]
  },
  {
   "cell_type": "code",
   "execution_count": 11,
   "id": "72a2cb65",
   "metadata": {},
   "outputs": [
    {
     "name": "stdout",
     "output_type": "stream",
     "text": [
      "[4, 16, 36, 64, 100]\n"
     ]
    }
   ],
   "source": [
    "ls = [1,2,3,4,5,6,7,8,9,10]\n",
    "sq = list(map(lambda x: x**2,  filter(lambda x: x%2==0, ls) ))\n",
    "print(sq)"
   ]
  },
  {
   "cell_type": "markdown",
   "id": "caef1138",
   "metadata": {},
   "source": [
    "### Question 50\n",
    "1. Define a class named American which has a static method called printNationality. \n",
    "2. Define a class named American and its subclass NewYorker."
   ]
  },
  {
   "cell_type": "code",
   "execution_count": 2,
   "id": "193dc840",
   "metadata": {},
   "outputs": [],
   "source": [
    "class American:\n",
    "    @staticmethod\n",
    "    def pN():\n",
    "        print(\"American\")\n"
   ]
  },
  {
   "cell_type": "code",
   "execution_count": 3,
   "id": "8bbdc55b",
   "metadata": {},
   "outputs": [
    {
     "name": "stdout",
     "output_type": "stream",
     "text": [
      "American\n",
      "American\n"
     ]
    }
   ],
   "source": [
    "Jone = American()\n",
    "Jone.pN()\n",
    "American.pN()"
   ]
  },
  {
   "cell_type": "code",
   "execution_count": 4,
   "id": "007a45db",
   "metadata": {},
   "outputs": [],
   "source": [
    "class NewYorker(American):\n",
    "    pass"
   ]
  },
  {
   "cell_type": "code",
   "execution_count": 6,
   "id": "8fb88577",
   "metadata": {},
   "outputs": [
    {
     "name": "stdout",
     "output_type": "stream",
     "text": [
      "American\n"
     ]
    }
   ],
   "source": [
    "Wei = NewYorker()\n",
    "Wei.pN()"
   ]
  },
  {
   "cell_type": "markdown",
   "id": "9a872d31",
   "metadata": {},
   "source": [
    "### Question 52\n",
    "Define a class named Circle which can be constructed by a radius. The Circle class has a method which can compute the area."
   ]
  },
  {
   "cell_type": "code",
   "execution_count": 11,
   "id": "b40f2764",
   "metadata": {},
   "outputs": [],
   "source": [
    "import math\n",
    "class Circle:\n",
    "    def __init__(self, r):\n",
    "        self.radius = r\n",
    "    \n",
    "    def area(self):\n",
    "        return math.pi*(self.radius)**2"
   ]
  },
  {
   "cell_type": "code",
   "execution_count": 12,
   "id": "ddcfab25",
   "metadata": {},
   "outputs": [
    {
     "data": {
      "text/plain": [
       "78.53981633974483"
      ]
     },
     "execution_count": 12,
     "metadata": {},
     "output_type": "execute_result"
    }
   ],
   "source": [
    "c1 = Circle(5)\n",
    "c1.area()"
   ]
  },
  {
   "cell_type": "markdown",
   "id": "38c28913",
   "metadata": {},
   "source": [
    "### Question 54\n",
    "Define a class named Shape and its subclass Square. The Square class has an init function which takes a length as argument. Both classes have a area function which can print the area of the shape where Shape's area is 0 by default."
   ]
  },
  {
   "cell_type": "code",
   "execution_count": 22,
   "id": "a2259006",
   "metadata": {},
   "outputs": [],
   "source": [
    "class Shape:\n",
    "    def __init__(self):\n",
    "        pass\n",
    "    \n",
    "    def area(self):\n",
    "        return 0"
   ]
  },
  {
   "cell_type": "code",
   "execution_count": 23,
   "id": "6fb7a30f",
   "metadata": {},
   "outputs": [],
   "source": [
    "class Square(Shape):\n",
    "    def __init__(self, l):\n",
    "        Shape.__init__(self)\n",
    "        self.length = l\n",
    "    \n",
    "    def area(self):\n",
    "        return self.length**2"
   ]
  },
  {
   "cell_type": "code",
   "execution_count": 24,
   "id": "89e2e80d",
   "metadata": {},
   "outputs": [
    {
     "data": {
      "text/plain": [
       "25"
      ]
     },
     "execution_count": 24,
     "metadata": {},
     "output_type": "execute_result"
    }
   ],
   "source": [
    "s = Square(5)\n",
    "s.area()"
   ]
  },
  {
   "cell_type": "markdown",
   "id": "62f50680",
   "metadata": {},
   "source": [
    "### Question 55\n",
    "Please raise a RuntimeError exception."
   ]
  },
  {
   "cell_type": "code",
   "execution_count": 25,
   "id": "721815d0",
   "metadata": {},
   "outputs": [
    {
     "ename": "RuntimeError",
     "evalue": "something wrong",
     "output_type": "error",
     "traceback": [
      "\u001b[0;31m---------------------------------------------------------------------------\u001b[0m",
      "\u001b[0;31mRuntimeError\u001b[0m                              Traceback (most recent call last)",
      "\u001b[0;32m/var/folders/cw/qph5p4hs3xq46rn9lkw59nr80000gn/T/ipykernel_71917/2384397409.py\u001b[0m in \u001b[0;36m<module>\u001b[0;34m\u001b[0m\n\u001b[0;32m----> 1\u001b[0;31m \u001b[0;32mraise\u001b[0m \u001b[0mRuntimeError\u001b[0m\u001b[0;34m(\u001b[0m\u001b[0;34m'something wrong'\u001b[0m\u001b[0;34m)\u001b[0m\u001b[0;34m\u001b[0m\u001b[0;34m\u001b[0m\u001b[0m\n\u001b[0m",
      "\u001b[0;31mRuntimeError\u001b[0m: something wrong"
     ]
    }
   ],
   "source": [
    "raise RuntimeError('something wrong')"
   ]
  },
  {
   "cell_type": "markdown",
   "id": "0cd307a7",
   "metadata": {},
   "source": [
    "### Question 56\n",
    "Write a function to compute 5/0 and use try/except to catch the exceptions."
   ]
  },
  {
   "cell_type": "code",
   "execution_count": 29,
   "id": "29d4b22c",
   "metadata": {},
   "outputs": [
    {
     "name": "stdout",
     "output_type": "stream",
     "text": [
      "division by zero!\n",
      "In finally block for cleanup\n"
     ]
    }
   ],
   "source": [
    "def throws():\n",
    "    return 5/0\n",
    "\n",
    "try:\n",
    "    throws()\n",
    "except ZeroDivisionError:\n",
    "    print(\"division by zero!\")\n",
    "except Exception as err:\n",
    "    print('Caught an exception')\n",
    "finally:\n",
    "    print('In finally block for cleanup')"
   ]
  },
  {
   "cell_type": "markdown",
   "id": "c6e5931e",
   "metadata": {},
   "source": [
    "### Question 57\n",
    "Define a custom exception class which takes a string message as attribute."
   ]
  },
  {
   "cell_type": "code",
   "execution_count": 60,
   "id": "1f67a1a1",
   "metadata": {},
   "outputs": [
    {
     "name": "stdout",
     "output_type": "stream",
     "text": [
      "My exception occurrs: 'test'\n"
     ]
    }
   ],
   "source": [
    "class MyError(Exception):\n",
    "    \"\"\"My own exception class\n",
    "    Attributes:\n",
    "        msg  -- explanation of the error\n",
    "    \"\"\"    \n",
    "    def __init__(self, msg):\n",
    "        self.msg = msg    \n",
    "    def __str__(self):\n",
    "        return repr(self.msg)\n",
    "\n",
    "try:\n",
    "    raise MyError(\"test\")\n",
    "except MyError as e:\n",
    "    print('My exception occurrs:', e)"
   ]
  },
  {
   "cell_type": "code",
   "execution_count": 56,
   "id": "ebbaf0af",
   "metadata": {},
   "outputs": [
    {
     "name": "stdout",
     "output_type": "stream",
     "text": [
      "My exception occurred, value: 4\n"
     ]
    }
   ],
   "source": [
    "class MyError(Exception):\n",
    "    def __init__(self, value):\n",
    "        self.value = value\n",
    "    def __str__(self):\n",
    "        return repr(self.value)\n",
    "try:\n",
    "    raise MyError(2*2)\n",
    "except MyError as e:\n",
    "    print('My exception occurred, value:', e.value)"
   ]
  },
  {
   "cell_type": "markdown",
   "id": "1c10bd18",
   "metadata": {},
   "source": [
    "### Question 58\n",
    "Assuming that we have some email addresses in the \"username@companyname.com\" format, please write program to print the user name of a given email address. Both user names and company names are composed of letters only.\n",
    "\n",
    "Example: If the following email address is given as input to the program:\n",
    "\n",
    "john@google.com\n",
    "\n",
    "Then, the output of the program should be:\n",
    "\n",
    "john"
   ]
  },
  {
   "cell_type": "code",
   "execution_count": 48,
   "id": "a5e8b06a",
   "metadata": {},
   "outputs": [
    {
     "name": "stdout",
     "output_type": "stream",
     "text": [
      "john@google.com\n",
      "john\n",
      "google\n"
     ]
    }
   ],
   "source": [
    "import re\n",
    "emailadd = input()\n",
    "patten = re.compile('(\\w+)@(\\w+)\\.+(com)')\n",
    "name = patten.match(emailadd)\n",
    "print(name.group(1))\n",
    "print(name.group(2))\n"
   ]
  },
  {
   "cell_type": "markdown",
   "id": "60bb7bd9",
   "metadata": {},
   "source": [
    "### Question 60\n",
    "Write a program which accepts a sequence of words separated by whitespace as input to print the words composed of digits only."
   ]
  },
  {
   "cell_type": "code",
   "execution_count": 51,
   "id": "77dcb6b8",
   "metadata": {},
   "outputs": [
    {
     "name": "stdout",
     "output_type": "stream",
     "text": [
      "2 cats and 3 dogs\n",
      "['2', '3']\n"
     ]
    }
   ],
   "source": [
    "words = input().split(' ')\n",
    "num = list()\n",
    "for word in words:\n",
    "    if word.isnumeric():\n",
    "        num.append(word)\n",
    "print(num)"
   ]
  },
  {
   "cell_type": "code",
   "execution_count": 55,
   "id": "754d0d23",
   "metadata": {},
   "outputs": [
    {
     "name": "stdout",
     "output_type": "stream",
     "text": [
      "2 cats and 3 dogs\n",
      "['2', '3']\n"
     ]
    }
   ],
   "source": [
    "import re\n",
    "num = re.findall(r'\\d+', input())\n",
    "print(num)"
   ]
  },
  {
   "cell_type": "markdown",
   "id": "388a22d1",
   "metadata": {},
   "source": [
    "### Question 61\n",
    "Print a unicode string \"hello world\"."
   ]
  },
  {
   "cell_type": "code",
   "execution_count": 34,
   "id": "d78c84ec",
   "metadata": {},
   "outputs": [],
   "source": [
    "# Literal strings are unicode by default in Python3.\n",
    "# Assuming that text is a bytes object, just use text.decode('utf-8')"
   ]
  },
  {
   "cell_type": "markdown",
   "id": "b878de0e",
   "metadata": {},
   "source": [
    "### Question 62\n",
    "Write a program to read an ASCII string and to convert it to a unicode string encoded by utf-8."
   ]
  },
  {
   "cell_type": "code",
   "execution_count": 42,
   "id": "f1594e11",
   "metadata": {},
   "outputs": [
    {
     "name": "stdout",
     "output_type": "stream",
     "text": [
      "hello world <class 'str'>\n",
      "b'hello world' <class 'bytes'>\n",
      "hello world <class 'str'>\n"
     ]
    }
   ],
   "source": [
    "a = \"hello world\"\n",
    "b = a.encode(\"ascii\")\n",
    "c = b.decode(\"utf-8\")\n",
    "print(a, type(a))\n",
    "print(b, type(b))\n",
    "print(c, type(c))"
   ]
  },
  {
   "cell_type": "code",
   "execution_count": 29,
   "id": "7042f605",
   "metadata": {},
   "outputs": [
    {
     "data": {
      "text/plain": [
       "str"
      ]
     },
     "execution_count": 29,
     "metadata": {},
     "output_type": "execute_result"
    }
   ],
   "source": [
    "a = u'hello world'\n",
    "type(a)\n",
    "# b = a.encode(\"ascii\")\n",
    "# b"
   ]
  },
  {
   "cell_type": "markdown",
   "id": "c6bd64fa",
   "metadata": {},
   "source": [
    "### Question 63\n",
    "Write a special comment to indicate a Python source code file is in unicode."
   ]
  },
  {
   "cell_type": "code",
   "execution_count": 11,
   "id": "7d2d8b83",
   "metadata": {},
   "outputs": [],
   "source": [
    "# -*- coding: utf-8 -*-\n",
    "\n",
    "#----------------------------------------#"
   ]
  },
  {
   "cell_type": "markdown",
   "id": "7981137e",
   "metadata": {},
   "source": [
    "### Question 64\n",
    "Write a program to compute 1/2+2/3+3/4+...+n/n+1 with a given n input by console (n>0).\n",
    "\n",
    "Example: If the following n is given as input to the program:\n",
    "\n",
    "5\n",
    "\n",
    "Then, the output of the program should be:\n",
    "\n",
    "3.55"
   ]
  },
  {
   "cell_type": "code",
   "execution_count": 24,
   "id": "227ed321",
   "metadata": {},
   "outputs": [
    {
     "name": "stdout",
     "output_type": "stream",
     "text": [
      "0.17\n"
     ]
    }
   ],
   "source": [
    "def summ(n):\n",
    "    if n == 1:\n",
    "        return float(1/2)\n",
    "    else:\n",
    "        return float(summ(n-1)*n/(n+1))\n",
    "print('{:.2f}'.format(summ(5)))"
   ]
  },
  {
   "cell_type": "code",
   "execution_count": null,
   "id": "c8157252",
   "metadata": {},
   "outputs": [],
   "source": [
    "float(%.2f,)"
   ]
  },
  {
   "cell_type": "markdown",
   "id": "f8bfba39",
   "metadata": {},
   "source": [
    "### Question 68\n",
    "Please write a program using generator to print the even numbers between 0 and n in comma separated form while n is input by console."
   ]
  },
  {
   "cell_type": "code",
   "execution_count": 54,
   "id": "6ae31b43",
   "metadata": {},
   "outputs": [],
   "source": [
    "def even(n):\n",
    "    for i in range(n+1):\n",
    "        if i%2 == 0:\n",
    "            yield i\n",
    "\n",
    "a = even(6)"
   ]
  },
  {
   "cell_type": "code",
   "execution_count": 59,
   "id": "49a25f71",
   "metadata": {},
   "outputs": [
    {
     "name": "stdout",
     "output_type": "stream",
     "text": [
      "4\n"
     ]
    }
   ],
   "source": [
    "print(next(a))"
   ]
  },
  {
   "cell_type": "markdown",
   "id": "e9963787",
   "metadata": {},
   "source": [
    "### Question 70\n",
    "Please write assert statements to verify that every number in the list [2,4,6,8] is even."
   ]
  },
  {
   "cell_type": "code",
   "execution_count": 52,
   "id": "e957e7e8",
   "metadata": {},
   "outputs": [
    {
     "ename": "AssertionError",
     "evalue": "not every number is even",
     "output_type": "error",
     "traceback": [
      "\u001b[0;31m---------------------------------------------------------------------------\u001b[0m",
      "\u001b[0;31mAssertionError\u001b[0m                            Traceback (most recent call last)",
      "\u001b[0;32m/var/folders/cw/qph5p4hs3xq46rn9lkw59nr80000gn/T/ipykernel_81828/167459875.py\u001b[0m in \u001b[0;36m<module>\u001b[0;34m\u001b[0m\n\u001b[1;32m      1\u001b[0m \u001b[0;32mfor\u001b[0m \u001b[0mi\u001b[0m \u001b[0;32min\u001b[0m \u001b[0;34m[\u001b[0m\u001b[0;36m2\u001b[0m\u001b[0;34m,\u001b[0m\u001b[0;36m4\u001b[0m\u001b[0;34m,\u001b[0m\u001b[0;36m5\u001b[0m\u001b[0;34m,\u001b[0m\u001b[0;36m6\u001b[0m\u001b[0;34m,\u001b[0m\u001b[0;36m8\u001b[0m\u001b[0;34m]\u001b[0m\u001b[0;34m:\u001b[0m\u001b[0;34m\u001b[0m\u001b[0;34m\u001b[0m\u001b[0m\n\u001b[0;32m----> 2\u001b[0;31m     \u001b[0;32massert\u001b[0m \u001b[0mi\u001b[0m\u001b[0;34m%\u001b[0m\u001b[0;36m2\u001b[0m \u001b[0;34m==\u001b[0m \u001b[0;36m0\u001b[0m\u001b[0;34m,\u001b[0m\u001b[0;34m'not every number is even'\u001b[0m\u001b[0;34m\u001b[0m\u001b[0;34m\u001b[0m\u001b[0m\n\u001b[0m",
      "\u001b[0;31mAssertionError\u001b[0m: not every number is even"
     ]
    }
   ],
   "source": [
    "for i in [2,4,5,6,8]:\n",
    "    assert i%2 == 0,'not every number is even'"
   ]
  },
  {
   "cell_type": "markdown",
   "id": "48609756",
   "metadata": {},
   "source": [
    "### Question 71\n",
    "Please write a program which accepts basic mathematic expression from console and print the evaluation result."
   ]
  },
  {
   "cell_type": "code",
   "execution_count": 1,
   "id": "a067850d",
   "metadata": {},
   "outputs": [
    {
     "name": "stdout",
     "output_type": "stream",
     "text": [
      "35+3\n",
      "38\n"
     ]
    }
   ],
   "source": [
    "expression = input()    # eval 的输入一定是字符串\n",
    "print(eval(expression))"
   ]
  },
  {
   "cell_type": "code",
   "execution_count": 3,
   "id": "8c8ae228",
   "metadata": {},
   "outputs": [
    {
     "data": {
      "text/plain": [
       "5"
      ]
     },
     "execution_count": 3,
     "metadata": {},
     "output_type": "execute_result"
    }
   ],
   "source": [
    "g = {'a':4}       # 全局变量必须以字典作对象\n",
    "eval('a+1', g)"
   ]
  },
  {
   "cell_type": "markdown",
   "id": "1d3cf8ff",
   "metadata": {},
   "source": [
    "# Question 72\n",
    "Please write a binary search function which searches an item in a sorted list. The function should return the index of element to be searched in the list."
   ]
  },
  {
   "cell_type": "code",
   "execution_count": 60,
   "id": "f10571e1",
   "metadata": {},
   "outputs": [
    {
     "name": "stdout",
     "output_type": "stream",
     "text": [
      "6\n",
      "10004\n"
     ]
    }
   ],
   "source": [
    "def bi_search(ls,item):\n",
    "    N = len(ls)\n",
    "    if N%2 ==0:\n",
    "        med = N//2\n",
    "    else:\n",
    "        med = (N+1)//2\n",
    "    \n",
    "    if N == 1 and item != ls[med-1]:\n",
    "        return 10000     # imply out of range\n",
    "    elif item == ls[med-1]:\n",
    "        return med\n",
    "    elif item < ls[med-1]:\n",
    "        poi = bi_search(ls[:med-1],item)\n",
    "        return poi\n",
    "    elif item > ls[med-1]:\n",
    "        poi = bi_search(ls[med:],item)\n",
    "        return med+poi\n",
    "\n",
    "li=[2,5,7,9,11,17,222]\n",
    "print(bi_search(li,17))\n",
    "print(bi_search(li,12))"
   ]
  },
  {
   "cell_type": "code",
   "execution_count": 61,
   "id": "b53498d4",
   "metadata": {},
   "outputs": [
    {
     "name": "stdout",
     "output_type": "stream",
     "text": [
      "4\n",
      "-1\n"
     ]
    }
   ],
   "source": [
    "import math\n",
    "def bin_search(li, element):\n",
    "    bottom = 0\n",
    "    top = len(li)-1\n",
    "    index = -1\n",
    "    while top>=bottom and index==-1:\n",
    "        mid = int(math.floor((top+bottom)/2.0))\n",
    "        if li[mid]==element:\n",
    "            index = mid\n",
    "        elif li[mid]>element:\n",
    "            top = mid-1\n",
    "        else:\n",
    "            bottom = mid+1\n",
    "\n",
    "    return index\n",
    "\n",
    "li=[2,5,7,9,11,17,222]\n",
    "print(bin_search(li,11))\n",
    "print(bin_search(li,12))"
   ]
  },
  {
   "cell_type": "markdown",
   "id": "aca4ff25",
   "metadata": {},
   "source": [
    "### Question 75\n",
    "Please generate a random float where the value is between 5 and 95 using Python math module."
   ]
  },
  {
   "cell_type": "code",
   "execution_count": 15,
   "id": "27462bdc",
   "metadata": {},
   "outputs": [
    {
     "name": "stdout",
     "output_type": "stream",
     "text": [
      "32.785078718762286\n"
     ]
    }
   ],
   "source": [
    "import random\n",
    "num = (random.random()*100)-5\n",
    "print(num)"
   ]
  },
  {
   "cell_type": "markdown",
   "id": "eacb434b",
   "metadata": {},
   "source": [
    "### Question 76\n",
    "Please write a program to output a random even number between 0 and 10 inclusive using random module and list comprehension."
   ]
  },
  {
   "cell_type": "code",
   "execution_count": 27,
   "id": "25966075",
   "metadata": {},
   "outputs": [
    {
     "name": "stdout",
     "output_type": "stream",
     "text": [
      "10\n"
     ]
    }
   ],
   "source": [
    "import random\n",
    "num = random.choice([i for i in range(11) if i%2 ==0] )\n",
    "print(num)"
   ]
  },
  {
   "cell_type": "markdown",
   "id": "2e5b6014",
   "metadata": {},
   "source": [
    "### Question 78\n",
    "Please write a program to generate a list with 5 random even numbers between 100 and 200 inclusive."
   ]
  },
  {
   "cell_type": "code",
   "execution_count": 34,
   "id": "3224755b",
   "metadata": {},
   "outputs": [
    {
     "name": "stdout",
     "output_type": "stream",
     "text": [
      "[168, 152, 120, 118, 194]\n"
     ]
    }
   ],
   "source": [
    "import random\n",
    "print(random.sample( [i for i in range(100,201) if i%2 ==0], 5 ))"
   ]
  },
  {
   "cell_type": "markdown",
   "id": "be5fda1f",
   "metadata": {},
   "source": [
    "### Question 81\n",
    "Please write a program to randomly print a integer number between 7 and 15 inclusive."
   ]
  },
  {
   "cell_type": "code",
   "execution_count": 39,
   "id": "45e32c49",
   "metadata": {},
   "outputs": [
    {
     "name": "stdout",
     "output_type": "stream",
     "text": [
      "21\n"
     ]
    }
   ],
   "source": [
    "import random\n",
    "print(random.randrange(0,100,7))"
   ]
  },
  {
   "cell_type": "markdown",
   "id": "021606cb",
   "metadata": {},
   "source": [
    "### Question 82\n",
    "Please write a program to compress and decompress the string \"hello world!hello world!hello world!hello world!\"."
   ]
  },
  {
   "cell_type": "code",
   "execution_count": 42,
   "id": "5e48b151",
   "metadata": {},
   "outputs": [
    {
     "name": "stdout",
     "output_type": "stream",
     "text": [
      "b'x\\x9c\\xcbH\\xcd\\xc9\\xc9W(\\xcf/\\xcaIQ\\xcc \\x82\\r\\x00\\xbd[\\x11\\xf5'\n",
      "b'hello world!hello world!hello world!hello world!'\n"
     ]
    }
   ],
   "source": [
    "import zlib\n",
    "s = b'hello world!hello world!hello world!hello world!'\n",
    "t = zlib.compress(s)\n",
    "print(t)\n",
    "print(zlib.decompress(t))"
   ]
  },
  {
   "cell_type": "markdown",
   "id": "828c37bd",
   "metadata": {},
   "source": [
    "### Question 83\n",
    "Please write a program to print the running time of execution of \"1+1\" for 100 times."
   ]
  },
  {
   "cell_type": "code",
   "execution_count": 69,
   "id": "ea4a681d",
   "metadata": {},
   "outputs": [
    {
     "name": "stdout",
     "output_type": "stream",
     "text": [
      "0.8486882079996576\n"
     ]
    }
   ],
   "source": [
    "from timeit import Timer\n",
    "t = Timer(\"for i in range(100): 1+1\")\n",
    "print(t.timeit())"
   ]
  },
  {
   "cell_type": "markdown",
   "id": "af092a45",
   "metadata": {},
   "source": [
    "### Question 84\n",
    "Please write a program to shuffle and print the list [3,6,7,8]."
   ]
  },
  {
   "cell_type": "code",
   "execution_count": 75,
   "id": "fc96931b",
   "metadata": {},
   "outputs": [
    {
     "name": "stdout",
     "output_type": "stream",
     "text": [
      "[8, 6, 7, 3]\n"
     ]
    }
   ],
   "source": [
    "from random import shuffle\n",
    "ls = [3,6,7,8]\n",
    "shuffle(ls)\n",
    "print(ls)"
   ]
  },
  {
   "cell_type": "markdown",
   "id": "f94e1951",
   "metadata": {},
   "source": [
    "### Question 86\n",
    "Please write a program to generate all sentences where subject is in [\"I\", \"You\"] and verb is in [\"Play\", \"Love\"] and the object is in [\"Hockey\",\"Football\"]."
   ]
  },
  {
   "cell_type": "code",
   "execution_count": 77,
   "id": "3e32d6ad",
   "metadata": {},
   "outputs": [
    {
     "name": "stdout",
     "output_type": "stream",
     "text": [
      "I Play Hockey\n",
      "I Play Football\n",
      "I Love Hockey\n",
      "I Love Football\n",
      "You Play Hockey\n",
      "You Play Football\n",
      "You Love Hockey\n",
      "You Love Football\n"
     ]
    }
   ],
   "source": [
    "s = [\"I\", \"You\"]\n",
    "v = [\"Play\", \"Love\"]\n",
    "o = [\"Hockey\",\"Football\"]\n",
    "for i in s:\n",
    "    for j in v:\n",
    "        for k in o:\n",
    "            print(\"{0} {1} {2}\".format(i,j,k))"
   ]
  },
  {
   "cell_type": "markdown",
   "id": "cff89a23",
   "metadata": {},
   "source": [
    "### Question 87\n",
    "Please write a program to print the list after removing delete even numbers in [5,6,77,45,22,12,24]"
   ]
  },
  {
   "cell_type": "code",
   "execution_count": 80,
   "id": "1dca5eb3",
   "metadata": {},
   "outputs": [
    {
     "name": "stdout",
     "output_type": "stream",
     "text": [
      "[6, 22, 12, 24]\n"
     ]
    }
   ],
   "source": [
    "ls = [5,6,77,45,22,12,24]\n",
    "even = list(filter(lambda x: x%2==0, ls))\n",
    "print(even)"
   ]
  },
  {
   "cell_type": "markdown",
   "id": "a76e73a1",
   "metadata": {},
   "source": [
    "### Question 89\n",
    "By using list comprehension, please write a program to print the list after removing the 0th, 2nd, 4th,6th numbers in [12,24,35,70,88,120,155]."
   ]
  },
  {
   "cell_type": "code",
   "execution_count": 81,
   "id": "1d680486",
   "metadata": {},
   "outputs": [
    {
     "name": "stdout",
     "output_type": "stream",
     "text": [
      "[2, 35, 88, 155]\n"
     ]
    }
   ],
   "source": [
    "ls = [2,24,35,70,88,120,155]\n",
    "index = list(filter(lambda x: x%2==0, range(7)))\n",
    "even = [ls[x] for x in index]\n",
    "print(even)"
   ]
  },
  {
   "cell_type": "code",
   "execution_count": 84,
   "id": "74443f2f",
   "metadata": {},
   "outputs": [
    {
     "name": "stdout",
     "output_type": "stream",
     "text": [
      "[24, 70, 120]\n"
     ]
    }
   ],
   "source": [
    "li = [12,24,35,70,88,120,155]\n",
    "li = [x for (i,x) in enumerate(li) if i%2!=0]\n",
    "print(li)"
   ]
  },
  {
   "cell_type": "markdown",
   "id": "37c52fc2",
   "metadata": {},
   "source": [
    "### Question 90\n",
    "By using list comprehension, please write a program generate a 358 3D array whose each element is 0."
   ]
  },
  {
   "cell_type": "code",
   "execution_count": 86,
   "id": "f00eccec",
   "metadata": {},
   "outputs": [
    {
     "name": "stdout",
     "output_type": "stream",
     "text": [
      "[[[0. 0. 0. 0. 0.]\n",
      "  [0. 0. 0. 0. 0.]\n",
      "  [0. 0. 0. 0. 0.]\n",
      "  [0. 0. 0. 0. 0.]]\n",
      "\n",
      " [[0. 0. 0. 0. 0.]\n",
      "  [0. 0. 0. 0. 0.]\n",
      "  [0. 0. 0. 0. 0.]\n",
      "  [0. 0. 0. 0. 0.]]\n",
      "\n",
      " [[0. 0. 0. 0. 0.]\n",
      "  [0. 0. 0. 0. 0.]\n",
      "  [0. 0. 0. 0. 0.]\n",
      "  [0. 0. 0. 0. 0.]]]\n"
     ]
    }
   ],
   "source": [
    "import numpy as np\n",
    "a = np.zeros((3,4,5))\n",
    "print(a)"
   ]
  },
  {
   "cell_type": "markdown",
   "id": "d07a4421",
   "metadata": {},
   "source": [
    "### Question 93\n",
    "With two given lists [1,3,6,78,35,55] and [12,24,35,24,88,120,155], write a program to make a list whose elements are intersection of the above given lists."
   ]
  },
  {
   "cell_type": "code",
   "execution_count": 88,
   "id": "c84d3ad1",
   "metadata": {},
   "outputs": [
    {
     "name": "stdout",
     "output_type": "stream",
     "text": [
      "[1, 3, 35, 6, 88, 12, 78, 55, 24, 155, 120]\n"
     ]
    }
   ],
   "source": [
    "ls1 = [1,3,6,78,35,55]\n",
    "ls2 = [12,24,35,24,88,120,155]\n",
    "ls = set(ls1)|set(ls2)\n",
    "print(list(ls))"
   ]
  },
  {
   "cell_type": "markdown",
   "id": "0c55b61a",
   "metadata": {},
   "source": [
    "### Question 94\n",
    "With a given list [12,24,35,24,88,120,155,88,120,155], write a program to print this list after removing all duplicate values with original order reserved."
   ]
  },
  {
   "cell_type": "code",
   "execution_count": 91,
   "id": "c06698c3",
   "metadata": {},
   "outputs": [
    {
     "name": "stdout",
     "output_type": "stream",
     "text": [
      "{35, 12, 155, 24, 88, 120}\n"
     ]
    }
   ],
   "source": [
    "ls = [12,24,35,24,88,120,155,88,120,155]\n",
    "print(set(ls))"
   ]
  },
  {
   "cell_type": "markdown",
   "id": "66fff4a1",
   "metadata": {},
   "source": [
    "### Question 95\n",
    "Define a class Person and its two child classes: Male and Female. All classes have a method \"getGender\" which can print \"Male\" for Male class and \"Female\" for Female class."
   ]
  },
  {
   "cell_type": "code",
   "execution_count": 7,
   "id": "e9bc5793",
   "metadata": {},
   "outputs": [],
   "source": [
    "class Person:\n",
    "    def __init__(self, sex):\n",
    "        self.sex = sex  \n",
    "    def getGender(self):\n",
    "        return self.sex\n",
    "\n",
    "class Male(Person):\n",
    "    def __init__(self, male):\n",
    "        self.sex = male  \n",
    "    def getGender(self):\n",
    "        return self.sex\n"
   ]
  },
  {
   "cell_type": "code",
   "execution_count": 26,
   "id": "affa0132",
   "metadata": {},
   "outputs": [
    {
     "ename": "NameError",
     "evalue": "name 'getGender' is not defined",
     "output_type": "error",
     "traceback": [
      "\u001b[0;31m---------------------------------------------------------------------------\u001b[0m",
      "\u001b[0;31mNameError\u001b[0m                                 Traceback (most recent call last)",
      "\u001b[0;32m/var/folders/cw/qph5p4hs3xq46rn9lkw59nr80000gn/T/ipykernel_89632/2398939229.py\u001b[0m in \u001b[0;36m<module>\u001b[0;34m\u001b[0m\n\u001b[1;32m      2\u001b[0m \u001b[0ma\u001b[0m\u001b[0;34m.\u001b[0m\u001b[0mgetGender\u001b[0m\u001b[0;34m(\u001b[0m\u001b[0;34m)\u001b[0m\u001b[0;34m\u001b[0m\u001b[0;34m\u001b[0m\u001b[0m\n\u001b[1;32m      3\u001b[0m \u001b[0mb\u001b[0m \u001b[0;34m=\u001b[0m \u001b[0mMale\u001b[0m\u001b[0;34m(\u001b[0m\u001b[0;34m)\u001b[0m\u001b[0;34m\u001b[0m\u001b[0;34m\u001b[0m\u001b[0m\n\u001b[0;32m----> 4\u001b[0;31m \u001b[0mb\u001b[0m\u001b[0;34m,\u001b[0m\u001b[0mgetGender\u001b[0m\u001b[0;34m(\u001b[0m\u001b[0;34m)\u001b[0m\u001b[0;34m\u001b[0m\u001b[0;34m\u001b[0m\u001b[0m\n\u001b[0m",
      "\u001b[0;31mNameError\u001b[0m: name 'getGender' is not defined"
     ]
    }
   ],
   "source": [
    "a = Person(\"male\")\n",
    "a.getGender()\n",
    "b = Male()\n",
    "b,getGender()"
   ]
  },
  {
   "cell_type": "markdown",
   "id": "7a4b7743",
   "metadata": {},
   "source": [
    "### Question 96\n",
    "Please write a program which count and print the numbers of each character in a string input by console.\n",
    "\n",
    "Example: If the following string is given as input to the program:\n",
    "\n",
    "abcdefgabc\n",
    "\n",
    "Then, the output of the program should be:\n",
    "\n",
    "a,2 c,2 b,2 e,1 d,1 g,1 f,1"
   ]
  },
  {
   "cell_type": "code",
   "execution_count": 21,
   "id": "4fd2164d",
   "metadata": {},
   "outputs": [
    {
     "name": "stdout",
     "output_type": "stream",
     "text": [
      "abcdefgabc\n",
      "a,2\n",
      "b,2\n",
      "c,2\n",
      "d,1\n",
      "e,1\n",
      "f,1\n",
      "g,1\n"
     ]
    }
   ],
   "source": [
    "d = dict()\n",
    "s = input()\n",
    "for i in s:\n",
    "    d[i] = d.get(i,0) + 1\n",
    "print('\\n'.join(['{0},{1}'.format(k, v) for (k,v) in d.items()]))"
   ]
  },
  {
   "cell_type": "markdown",
   "id": "2ccbd98e",
   "metadata": {},
   "source": [
    "### Question 97\n",
    "Please write a program which accepts a string from console and print it in reverse order"
   ]
  },
  {
   "cell_type": "code",
   "execution_count": 13,
   "id": "432c8ba0",
   "metadata": {},
   "outputs": [
    {
     "name": "stdout",
     "output_type": "stream",
     "text": [
      "ab\n",
      "ba\n"
     ]
    }
   ],
   "source": [
    "s=input()\n",
    "s = s[::-1]\n",
    "print(s)"
   ]
  },
  {
   "cell_type": "markdown",
   "id": "322ffc57",
   "metadata": {},
   "source": [
    "### Question 99\n",
    "Please write a program which prints all permutations of [1,2,3]"
   ]
  },
  {
   "cell_type": "code",
   "execution_count": 24,
   "id": "869deeaa",
   "metadata": {},
   "outputs": [
    {
     "name": "stdout",
     "output_type": "stream",
     "text": [
      "[(1, 2, 3), (1, 3, 2), (2, 1, 3), (2, 3, 1), (3, 1, 2), (3, 2, 1)]\n"
     ]
    }
   ],
   "source": [
    "import itertools\n",
    "ls = [1,2,3]\n",
    "print(list(itertools.permutations(ls)))"
   ]
  },
  {
   "cell_type": "markdown",
   "id": "bc41f364",
   "metadata": {},
   "source": [
    "### Question 100\n",
    "Write a program to solve a classic ancient Chinese puzzle: We count 35 heads and 94 legs among the chickens and rabbits in a farm. "
   ]
  },
  {
   "cell_type": "code",
   "execution_count": 25,
   "id": "341ade45",
   "metadata": {},
   "outputs": [
    {
     "name": "stdout",
     "output_type": "stream",
     "text": [
      "25 11\n"
     ]
    }
   ],
   "source": [
    "for i in range(36):\n",
    "    j = 36 - i\n",
    "    leg = 2*i + 4*j\n",
    "    if leg == 94:\n",
    "        print(i,j)"
   ]
  },
  {
   "cell_type": "code",
   "execution_count": null,
   "id": "6683f9c9",
   "metadata": {},
   "outputs": [],
   "source": []
  }
 ],
 "metadata": {
  "kernelspec": {
   "display_name": "Python 3 (ipykernel)",
   "language": "python",
   "name": "python3"
  },
  "language_info": {
   "codemirror_mode": {
    "name": "ipython",
    "version": 3
   },
   "file_extension": ".py",
   "mimetype": "text/x-python",
   "name": "python",
   "nbconvert_exporter": "python",
   "pygments_lexer": "ipython3",
   "version": "3.9.9"
  }
 },
 "nbformat": 4,
 "nbformat_minor": 5
}
