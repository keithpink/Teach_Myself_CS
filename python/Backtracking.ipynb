{
 "cells": [
  {
   "cell_type": "markdown",
   "id": "5f8c7925",
   "metadata": {},
   "source": [
    "# Backtracking Algorithm"
   ]
  },
  {
   "cell_type": "markdown",
   "id": "a1752abd",
   "metadata": {},
   "source": [
    "I feel really confused the first time coming across the backtracking algorithm. But don't worry, it is better to learn this alogrithm with a concrete example. Leetcode 46 provide a very good question to start."
   ]
  },
  {
   "cell_type": "markdown",
   "id": "257e12bc",
   "metadata": {},
   "source": [
    "### LeetCode 46. [Permutations](https://leetcode.com/problems/permutations/)"
   ]
  },
  {
   "cell_type": "markdown",
   "id": "e2f13f84",
   "metadata": {},
   "source": [
    "If it is your first time to come across the backtrack, [here](https://www.youtube.com/watch?v=s7AvT7cGdSo) is a great video for explanation.\n",
    "\n",
    "The code attached below is a bit different for the video. But this is the charm of coding! Try writing your own version of backtracking algorithm."
   ]
  },
  {
   "cell_type": "code",
   "execution_count": 4,
   "id": "0e45ee4a",
   "metadata": {},
   "outputs": [],
   "source": [
    "class Solution:\n",
    "    def permute(self, nums):\n",
    "        self.result = list()\n",
    "        self.backtrack([], nums)\n",
    "        return self.result\n",
    "    \n",
    "    def backtrack(self, path, nums):\n",
    "        if len(path)==len(nums):\n",
    "            self.result.append(path[:])   # append path[:] rather than path because you need a deepcopy.\n",
    "            return\n",
    "        \n",
    "        for i in nums:\n",
    "            if i not in path:\n",
    "                path.append(i)\n",
    "                self.backtrack(path, nums)\n",
    "                path.pop()"
   ]
  },
  {
   "cell_type": "markdown",
   "id": "0722cd60",
   "metadata": {},
   "source": [
    "### LeetCode 22. [Generate Parentheses](https://leetcode.com/problems/generate-parentheses/)"
   ]
  },
  {
   "cell_type": "markdown",
   "id": "576bbed6",
   "metadata": {},
   "source": [
    "This is a question could solved by backtracking as well. The "
   ]
  },
  {
   "cell_type": "code",
   "execution_count": 2,
   "id": "dde84214",
   "metadata": {},
   "outputs": [],
   "source": [
    "class Solution:\n",
    "    def generateParenthesis(self, n):\n",
    "        result = list()\n",
    "        \n",
    "        def backtrack(path, left, right):\n",
    "            if len(path) == 2*n:\n",
    "                result.append(''.join(path))\n",
    "                return\n",
    "            \n",
    "            if left < n:\n",
    "                path.append('(')\n",
    "                backtrack(path, left+1, right)\n",
    "                path.pop()\n",
    "            \n",
    "            if right < left:\n",
    "                path.append(')')\n",
    "                backtrack(path, left, right+1)\n",
    "                path.pop()\n",
    "        \n",
    "        backtrack([], 0, 0)\n",
    "        return result"
   ]
  },
  {
   "cell_type": "markdown",
   "id": "e42135e9",
   "metadata": {},
   "source": [
    "### LeetCode 17. [Letter Combinations of a Phone Number](https://leetcode.com/problems/letter-combinations-of-a-phone-number/)"
   ]
  },
  {
   "cell_type": "markdown",
   "id": "6f593d9d",
   "metadata": {},
   "source": [
    "You can setup a backtrack function to get the permutation for this question as well. \n",
    "\n",
    "But here I just attach another anwser to let you more familiar with some Python built-in functions. "
   ]
  },
  {
   "cell_type": "code",
   "execution_count": 6,
   "id": "74f00441",
   "metadata": {},
   "outputs": [],
   "source": [
    "from itertools import product\n",
    "from functools import reduce\n",
    "\n",
    "class Solution:\n",
    "    def letterCombinations(self, digits):\n",
    "        key = {'2': ('a', 'b', 'c'),\n",
    "               '3': ('e', 'f', 'd'),\n",
    "               '4': ('g', 'h', 'i'),\n",
    "               '5': ('j', 'k', 'l'),\n",
    "               '6': ('m', 'n', 'o'),\n",
    "               '7': ('p', 'q', 'r', 's'),\n",
    "               '8': ('t', 'u', 'v'),\n",
    "               '9': ('w', 'x', 'y', 'z')\n",
    "              }\n",
    "\n",
    "        if not digits:\n",
    "            return []\n",
    "        else:\n",
    "            ls1 = [key[s] for s in digits]\n",
    "            ls2 = product(*ls1)   # get the cartesian product\n",
    "            ans = [reduce(lambda a,b: a+b, list(t)) for t in ls2]\n",
    "            return ans"
   ]
  },
  {
   "cell_type": "markdown",
   "id": "bfbf0b29",
   "metadata": {},
   "source": [
    "## Dynamic Programming"
   ]
  },
  {
   "cell_type": "markdown",
   "id": "0a4720b1",
   "metadata": {},
   "source": [
    "### LeetCode 53. [Maximum Subarray](https://leetcode.com/problems/maximum-subarray/)"
   ]
  },
  {
   "cell_type": "markdown",
   "id": "93e956b7",
   "metadata": {},
   "source": [
    "**Kadane’s algorithm** is an iterative dynamic programming algorithm in which we search for a maximum sum contiguous subarray within a one-dimensional numeric array. Let's see how it works."
   ]
  },
  {
   "cell_type": "code",
   "execution_count": 1,
   "id": "0c62f564",
   "metadata": {},
   "outputs": [],
   "source": [
    "class Solution:\n",
    "    def maxSubArray(self, nums):\n",
    "        head = 0\n",
    "        total = -inf\n",
    "        for i in nums:\n",
    "            head = max(i, head+i)\n",
    "            total = max(total, head)\n",
    "        return total"
   ]
  },
  {
   "cell_type": "code",
   "execution_count": null,
   "id": "4b12740b",
   "metadata": {},
   "outputs": [],
   "source": []
  },
  {
   "cell_type": "markdown",
   "id": "b9d0835e",
   "metadata": {},
   "source": [
    "### LeetCode 64. [Minimum Path Sum](https://leetcode.com/problems/minimum-path-sum/)"
   ]
  },
  {
   "cell_type": "markdown",
   "id": "3793475b",
   "metadata": {},
   "source": [
    "For this particular question, dynamic programming is eqivalent the greed algorithm. I use the original matrix insteading of creating another one for memory saving."
   ]
  },
  {
   "cell_type": "code",
   "execution_count": null,
   "id": "b1e7ae32",
   "metadata": {},
   "outputs": [],
   "source": [
    "class Solution:\n",
    "    def minPathSum(self, grid):\n",
    "        m = len(grid) \n",
    "        n = len(grid[0])\n",
    "        \n",
    "        for i in range(m):\n",
    "            for j in range(n):\n",
    "                if i==0 and j==0:\n",
    "                    pass\n",
    "                elif i==0 and j>0:\n",
    "                    grid[i][j] += grid[i][j-1] \n",
    "                elif i>0 and j==0:\n",
    "                    grid[i][j] += grid[i-1][j] \n",
    "                else:\n",
    "                    grid[i][j] += min(grid[i-1][j], grid[i][j-1])\n",
    "                    \n",
    "        return grid[m-1][n-1]"
   ]
  }
 ],
 "metadata": {
  "kernelspec": {
   "display_name": "Python 3 (ipykernel)",
   "language": "python",
   "name": "python3"
  },
  "language_info": {
   "codemirror_mode": {
    "name": "ipython",
    "version": 3
   },
   "file_extension": ".py",
   "mimetype": "text/x-python",
   "name": "python",
   "nbconvert_exporter": "python",
   "pygments_lexer": "ipython3",
   "version": "3.9.7"
  }
 },
 "nbformat": 4,
 "nbformat_minor": 5
}
