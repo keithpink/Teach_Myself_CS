{
 "cells": [
  {
   "cell_type": "markdown",
   "metadata": {},
   "source": [
    "# [ACM 多用例输入](https://www.jianshu.com/p/b4cab8457594)"
   ]
  },
  {
   "cell_type": "markdown",
   "metadata": {},
   "source": [
    "### 1. 计算a + b(1)\n",
    "- 输入描述：输入包括两个正整数a,b(1 <= a, b <= 1000),输入数据包括多组。\n",
    "\n",
    "- 输出描述：输出a+b的结果\n",
    "\n",
    "- 输入例子1：\n",
    "\n",
    "> 1 5\n",
    "\n",
    "> 10 20\n",
    "\n",
    "- 输出例子1:\n",
    "\n",
    "> 6\n",
    "> 30\n",
    "\n"
   ]
  },
  {
   "cell_type": "code",
   "execution_count": 2,
   "metadata": {},
   "outputs": [
    {
     "name": "stdout",
     "output_type": "stream",
     "text": [
      "1 4\n",
      "5\n",
      "\n"
     ]
    }
   ],
   "source": [
    "while True:\n",
    "    try:\n",
    "        a, b = list(map(int, input().split()))\n",
    "        print(a+b)\n",
    "    except:\n",
    "        break"
   ]
  },
  {
   "cell_type": "markdown",
   "metadata": {},
   "source": [
    "### 2. 计算a + b(2)\n",
    "- 输入描述：\n",
    "输入第一行包括一个数据组数t(1 <= t <= 100)\n",
    "接下来每行包括两个正整数a,b(1 <= a, b <= 1000)\n",
    "\n",
    "- 输出描述\n",
    "输出a+b的结果\n",
    "\n",
    "- 输入例子1:\n",
    "\n",
    "> 2\n",
    "\n",
    "> 1 5\n",
    "\n",
    "> 10 20\n",
    "\n",
    "- 输出例子1：\n",
    "\n",
    "> 6\n",
    "> 30"
   ]
  },
  {
   "cell_type": "code",
   "execution_count": 6,
   "metadata": {},
   "outputs": [
    {
     "name": "stdout",
     "output_type": "stream",
     "text": [
      "2\n",
      "1 5\n",
      "6\n",
      "10 20\n",
      "30\n",
      "\n"
     ]
    }
   ],
   "source": [
    "while True:\n",
    "    try:\n",
    "        t = int(input().strip())\n",
    "        for _ in range(t):\n",
    "            a, b = map(int, input().split())\n",
    "            print(a + b)\n",
    "    except:\n",
    "        break"
   ]
  },
  {
   "cell_type": "markdown",
   "metadata": {},
   "source": [
    "### 3. 计算a + b(3)\n",
    "- 输入描述：\n",
    "输入包括两个正整数a,b(1 <= a, b <= 10^9),输入数据有多组, 如果输入为0 0则结束输入\n",
    "\n",
    "- 输出描述：\n",
    "输出a+b的结果\n",
    "\n",
    "- 输入例子1：\n",
    "\n",
    "> 1 5\n",
    "\n",
    "> 10 20\n",
    "\n",
    "> 0 0\n",
    "\n",
    "- 输出例子1：\n",
    "\n",
    "> 6\n",
    "\n",
    "> 30\n",
    "\n"
   ]
  },
  {
   "cell_type": "code",
   "execution_count": 7,
   "metadata": {},
   "outputs": [
    {
     "name": "stdout",
     "output_type": "stream",
     "text": [
      "1 5\n",
      "6\n",
      "10 20\n",
      "30\n",
      "0 0\n"
     ]
    }
   ],
   "source": [
    "while True:\n",
    "    try:\n",
    "        a, b = list(map(int, input().split()))\n",
    "        if a == 0 and b == 0:\n",
    "            break\n",
    "        else:\n",
    "            print(a+b)\n",
    "    except:\n",
    "        break"
   ]
  },
  {
   "cell_type": "markdown",
   "metadata": {},
   "source": [
    "### 4.计算a+b(4)\n",
    "- 输入描述：\n",
    "输入数据包括多组。\n",
    "每组数据一行,每行的第一个整数为整数的个数n(1 <= n <= 100), n为0的时候结束输入。\n",
    "接下来n个正整数,即需要求和的每个正整数。\n",
    "\n",
    "- 输出描述\n",
    "每组数据输出求和的结果\n",
    "\n",
    "- 输入例子1\n",
    "\n",
    "> 4 1 2 3 4\n",
    "\n",
    "> 5 1 2 3 4 5\n",
    "\n",
    "> 0\n",
    "\n",
    "- 输出例子1\n",
    "\n",
    "> 10\n",
    "\n",
    "> 15"
   ]
  },
  {
   "cell_type": "code",
   "execution_count": 12,
   "metadata": {},
   "outputs": [
    {
     "name": "stdout",
     "output_type": "stream",
     "text": [
      "4 1 2 3 4\n",
      "10\n",
      "5 1 2 3 4 5\n",
      "15\n",
      "0\n"
     ]
    }
   ],
   "source": [
    "while True:\n",
    "    try:\n",
    "        li = list(map(int, input().strip().split()))\n",
    "        if li[0] == 0:\n",
    "            break\n",
    "        else:\n",
    "            print(sum(li[1:]))\n",
    "    except:\n",
    "        break"
   ]
  },
  {
   "cell_type": "markdown",
   "metadata": {},
   "source": [
    "### 5.计算A+B(5)\n",
    "- 输入描述：\n",
    "输入的第一行包括一个正整数t(1 <= t <= 100), 表示数据组数。\n",
    "接下来t行, 每行一组数据。\n",
    "每行的第一个整数为整数的个数n(1 <= n <= 100)。\n",
    "接下来n个正整数, 即需要求和的每个正整数。\n",
    "\n",
    "- 输出描述：\n",
    "每组数据输出求和的结果\n",
    "\n",
    "- 输入例子1：\n",
    "\n",
    "> 2\n",
    "\n",
    "> 4 1 2 3 4\n",
    "\n",
    "> 5 1 2 3 4 5\n",
    "\n",
    "- 输出例子1：\n",
    "\n",
    "> 10\n",
    "\n",
    "> 15"
   ]
  },
  {
   "cell_type": "code",
   "execution_count": 14,
   "metadata": {},
   "outputs": [
    {
     "name": "stdout",
     "output_type": "stream",
     "text": [
      "2\n",
      "4 1 2 3 4\n",
      "10\n",
      "5 1 2 3 4 5\n",
      "15\n",
      "\n"
     ]
    }
   ],
   "source": [
    "while True:\n",
    "    try:\n",
    "        t = int(input().strip())\n",
    "        for _ in range(t):\n",
    "            li = list(map(int, input().strip().split()))\n",
    "            if li[0] == 0:\n",
    "                break\n",
    "            else:\n",
    "                print(sum(li[1:]))\n",
    "    except:\n",
    "        break"
   ]
  },
  {
   "cell_type": "markdown",
   "metadata": {},
   "source": [
    "### 8.字符串排序\n",
    "- 输入描述：\n",
    "输入有两行，第一行n\n",
    "第二行是n个字符串，字符串之间用空格隔开\n",
    "\n",
    "- 输出描述：\n",
    "输出一行排序后的字符串，空格隔开，无结尾空格\n",
    "\n",
    "- 输入例子1：\n",
    "\n",
    "> 5\n",
    "\n",
    "> c d a bb e\n",
    "\n",
    "- 输出例子1：\n",
    "\n",
    "> a bb c d e\n"
   ]
  },
  {
   "cell_type": "code",
   "execution_count": 16,
   "metadata": {},
   "outputs": [
    {
     "name": "stdout",
     "output_type": "stream",
     "text": [
      "5\n",
      "c d a bb e\n",
      "abbcde\n",
      "\n"
     ]
    }
   ],
   "source": [
    "while True:\n",
    "    try:\n",
    "        n = int(input().strip())\n",
    "        strings = sorted(input().strip().split())\n",
    "        print(\" \".join(strings))\n",
    "    except:\n",
    "        break"
   ]
  },
  {
   "cell_type": "code",
   "execution_count": null,
   "metadata": {},
   "outputs": [],
   "source": []
  },
  {
   "cell_type": "code",
   "execution_count": null,
   "metadata": {},
   "outputs": [],
   "source": []
  }
 ],
 "metadata": {
  "kernelspec": {
   "display_name": "Python 3 (ipykernel)",
   "language": "python",
   "name": "python3"
  },
  "language_info": {
   "codemirror_mode": {
    "name": "ipython",
    "version": 3
   },
   "file_extension": ".py",
   "mimetype": "text/x-python",
   "name": "python",
   "nbconvert_exporter": "python",
   "pygments_lexer": "ipython3",
   "version": "3.8.12"
  },
  "vscode": {
   "interpreter": {
    "hash": "68adcd4174e0681d222f6db10e0e7b881828c252a2e3da061512940792d75315"
   }
  }
 },
 "nbformat": 4,
 "nbformat_minor": 2
}
