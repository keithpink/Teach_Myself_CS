{
 "cells": [
  {
   "cell_type": "markdown",
   "id": "f46a7957",
   "metadata": {},
   "source": [
    "# Miscellaneous Exercises"
   ]
  },
  {
   "cell_type": "markdown",
   "id": "4efcf25f",
   "metadata": {},
   "source": [
    "Most questions are from [LeetCode](https://leetcode.com/problemset/all/) "
   ]
  },
  {
   "cell_type": "markdown",
   "id": "45a61360",
   "metadata": {},
   "source": [
    "---\n",
    "## Two Pointers"
   ]
  },
  {
   "cell_type": "markdown",
   "id": "9e9c9a31",
   "metadata": {},
   "source": [
    "#### LeetCode 11. [Container With Most Water](https://leetcode.com/problems/container-with-most-water/)\n",
    "Two pointer are used moving from two sides to the center and keeping take away the shorter bar.\n",
    "\n",
    "The algorithm is easy to implement once you know it. The tricky part is to verify why it is correct. Try to consider the follwing way: \n",
    "\n",
    "You are going to pick out the largest rectanger among rectangers with differents base. For rectangers with same base, you take away the shorter bar since you wanna make the height larger.\n"
   ]
  },
  {
   "cell_type": "code",
   "execution_count": 1,
   "id": "327553af",
   "metadata": {},
   "outputs": [],
   "source": [
    "class Solution:\n",
    "    def maxArea(self, height):\n",
    "        area = 0  \n",
    "        left = 0\n",
    "        right = len(height)-1\n",
    "        \n",
    "        while left < right:\n",
    "            cur_area = min(height[left], height[right])*(right-left)\n",
    "            area = max(area, cur_area)\n",
    "            if height[left] <= height[right]:\n",
    "                left += 1\n",
    "            else:\n",
    "                right -= 1\n",
    "        \n",
    "        return area"
   ]
  },
  {
   "cell_type": "markdown",
   "id": "ba7b61be",
   "metadata": {},
   "source": [
    "#### LeetCode 55. [Jump Game](https://leetcode.com/problems/jump-game/)"
   ]
  },
  {
   "cell_type": "code",
   "execution_count": null,
   "id": "0f343590",
   "metadata": {},
   "outputs": [],
   "source": [
    "def canJump(nums):\n",
    "    s = 0 # for starting\n",
    "    t = 0 # for terminal\n",
    "    \n",
    "    while s<=t and s<len(nums)-1:\n",
    "        if s+nums[s] > t:   # reset the terminal\n",
    "            t = s+nums[s]\n",
    "        s += 1\n",
    "    \n",
    "    return t >= (len(nums)-1)     # check if the final pointer reachable"
   ]
  },
  {
   "cell_type": "markdown",
   "id": "77b917e2",
   "metadata": {},
   "source": [
    "---\n",
    "## Bit Manipulation"
   ]
  },
  {
   "cell_type": "markdown",
   "id": "29adda22",
   "metadata": {},
   "source": [
    "Sometimes bit manipulation can speed up your algorthms in a magic way. Here are some examples:"
   ]
  },
  {
   "cell_type": "markdown",
   "id": "6c6fd9d2",
   "metadata": {},
   "source": [
    "#### LeetCode 67. [Add Binary](https://leetcode.com/problems/add-binary/)\n",
    "You need to be familair with how to convert binary into integers and convet it back."
   ]
  },
  {
   "cell_type": "code",
   "execution_count": null,
   "id": "8c02c692",
   "metadata": {},
   "outputs": [],
   "source": [
    "class Solution:\n",
    "    def addBinary(self, a, b):\n",
    "        return '{:b}'.format(int(a,2)+int(b,2))"
   ]
  },
  {
   "cell_type": "markdown",
   "id": "7f217e18",
   "metadata": {},
   "source": [
    "However, this approach is limited by the length of the input strings a and b. Once the string is long enough, the result of conversion into integers will not fit into the integer form.\n",
    "\n",
    "A more elegant way is using bit manipulation."
   ]
  },
  {
   "cell_type": "code",
   "execution_count": 1,
   "id": "545543f5",
   "metadata": {},
   "outputs": [],
   "source": [
    "class Solution:\n",
    "    def addBinary(self, a, b):\n",
    "        x, y = int(a, 2), int(b, 2)\n",
    "        while y:\n",
    "            answer = x ^ y\n",
    "            carry = (x & y) << 1\n",
    "            x, y = answer, carry\n",
    "        return bin(x)[2:]"
   ]
  },
  {
   "cell_type": "markdown",
   "id": "491b8049",
   "metadata": {},
   "source": [
    "#### LeetCode 136: [Single Number](https://leetcode.com/problems/single-number/)\n",
    "^ here is the bit manipulation XOR. We just XOR all bit together to find the unique element. Isn't it amazing!"
   ]
  },
  {
   "cell_type": "code",
   "execution_count": 6,
   "id": "0ba4aa05",
   "metadata": {},
   "outputs": [],
   "source": [
    "class Solution:\n",
    "    def singleNumber(self, nums):\n",
    "        return reduce(lambda x, y: x^y, nums)"
   ]
  },
  {
   "cell_type": "markdown",
   "id": "c876b3b0",
   "metadata": {},
   "source": [
    "#### LeetCode 78. [Subsets](https://leetcode.com/problems/subsets/)\n",
    "An example of bitmask. Better to understand the code with a concrete example and run the code line by line."
   ]
  },
  {
   "cell_type": "code",
   "execution_count": 7,
   "id": "5e2629b2",
   "metadata": {},
   "outputs": [],
   "source": [
    "class Solution:\n",
    "    def subsets(self, nums):\n",
    "        n = len(nums)\n",
    "        output = []\n",
    "        \n",
    "        nth_bit = 1 << n\n",
    "        for i in range(2**n):\n",
    "            # generate bitmask, from 0..00 to 1..11\n",
    "            bitmask = bin(i | nth_bit)[3:]\n",
    "            \n",
    "            # append subset corresponding to that bitmask\n",
    "            output.append([nums[j] for j in range(n) if bitmask[j] == '1'])\n",
    "        \n",
    "        return output"
   ]
  },
  {
   "cell_type": "code",
   "execution_count": null,
   "id": "cc1133fe",
   "metadata": {},
   "outputs": [],
   "source": []
  }
 ],
 "metadata": {
  "kernelspec": {
   "display_name": "Python 3 (ipykernel)",
   "language": "python",
   "name": "python3"
  },
  "language_info": {
   "codemirror_mode": {
    "name": "ipython",
    "version": 3
   },
   "file_extension": ".py",
   "mimetype": "text/x-python",
   "name": "python",
   "nbconvert_exporter": "python",
   "pygments_lexer": "ipython3",
   "version": "3.9.7"
  }
 },
 "nbformat": 4,
 "nbformat_minor": 5
}
