{
 "cells": [
  {
   "cell_type": "markdown",
   "id": "bf9cb16f",
   "metadata": {},
   "source": [
    "# Linear Data Structure"
   ]
  },
  {
   "cell_type": "markdown",
   "id": "276a9860",
   "metadata": {},
   "source": [
    "## Contents\n",
    "\n",
    "* [Array and String](#array)\n",
    "* [Queue and Stack](#stack)\n",
    "* [ListNodes](#listnodes)\n",
    "* [Hashmap](#hashmap)\n",
    "\n",
    "* [Binary Tree](#binarytree)\n",
    "* [Heap](#heap)\n"
   ]
  },
  {
   "cell_type": "markdown",
   "id": "47b0ecd7",
   "metadata": {},
   "source": [
    "---\n",
    "# Array and String<a name=\"array\"></a>"
   ]
  },
  {
   "cell_type": "markdown",
   "id": "8ec326c0",
   "metadata": {},
   "source": [
    "Array is called `List` in Python.\n",
    "\n",
    "An array is a basic data structure to store a collection of elements sequentially. But elements can be accessed randomly since each element in the array can be identified by an array index. "
   ]
  },
  {
   "cell_type": "markdown",
   "id": "ca20b05f",
   "metadata": {},
   "source": [
    "##  Array"
   ]
  },
  {
   "cell_type": "markdown",
   "id": "d3e2e244",
   "metadata": {},
   "source": [
    "#### LeetCode 1991. [Find the Middle Index in Array](https://leetcode.com/problems/find-the-middle-index-in-array/)\n",
    "\n",
    "You may come up with the condition `sum(nums[:i]) == sum(nums[i+1:])` but you have to calculate the sum every iteration and the total time complexity is $O(n^2)$."
   ]
  },
  {
   "cell_type": "code",
   "execution_count": null,
   "id": "34296b27",
   "metadata": {},
   "outputs": [],
   "source": [
    "class Solution:\n",
    "    def findMiddleIndex(self, nums): \n",
    "        left_sum = 0\n",
    "        right_sum = sum(nums)\n",
    "        \n",
    "        for i in range(len(nums)):\n",
    "            right_sum -= nums[i]\n",
    "            if left_sum == right_sum:\n",
    "                return i\n",
    "            left_sum += nums[i]\n",
    "        return -1"
   ]
  },
  {
   "cell_type": "markdown",
   "id": "972e146e",
   "metadata": {},
   "source": [
    "## Matrix\n",
    "A two-dimensional array is called **Matrix**. \n",
    "\n",
    "You can implement a m*n matrix by a one-dimensional array which contains M elements, each of which is an array of N integers. Or you can directly create a matrix with the package `NumPy`."
   ]
  },
  {
   "cell_type": "markdown",
   "id": "5e20e1c9",
   "metadata": {},
   "source": [
    "#### LeetCode 48 [Rotate Images](https://leetcode.com/problems/rotate-image/)\n",
    "\n",
    "A direct way is just rotata every entry in the matrix. But you have to be careful to pin down the iteratio range to make sure every entry is rotated exactly once. A good idea is to work with a 5*5 matrix to start."
   ]
  },
  {
   "cell_type": "code",
   "execution_count": 6,
   "id": "28c35de7",
   "metadata": {},
   "outputs": [],
   "source": [
    "class Solution:\n",
    "    def rotate(self, matrix):\n",
    "        \"\"\"\n",
    "        Do not return anything, modify matrix in-place instead.\n",
    "        \"\"\"\n",
    "        n = len(matrix)\n",
    "        for i in range(n//2+n%2):\n",
    "            for j in range(n//2):\n",
    "                temp = matrix[i][j]\n",
    "                matrix[i][j] = matrix[n-1-j][i]\n",
    "                matrix[n-1-j][i] = matrix[n-1-i][n-1-j]\n",
    "                matrix[n-1-i][n-1-j] = matrix[j][n-1-i]\n",
    "                matrix[j][n-1-i] = temp"
   ]
  },
  {
   "cell_type": "markdown",
   "id": "acc61dfe",
   "metadata": {},
   "source": [
    "If you are familiar with linear algebra, you may notice that:\n",
    "\n",
    "rotation (clockwise by 90 degree) = transpose (mirror by diagonal) + reflect (mirror by Y axis)"
   ]
  },
  {
   "cell_type": "code",
   "execution_count": 8,
   "id": "5ebff298",
   "metadata": {},
   "outputs": [],
   "source": [
    "class Solution:\n",
    "    def rotate(self, matrix):\n",
    "        \"\"\"\n",
    "        Do not return anything, modify matrix in-place instead.\n",
    "        \"\"\"\n",
    "        self.transpose(matrix)\n",
    "        self.reflect(matrix)\n",
    "    \n",
    "    def transpose(self, matrix):\n",
    "        n = len(matrix)\n",
    "        for i in range(n):\n",
    "            for j in range(i+1, n):\n",
    "                matrix[i][j], matrix[j][i] = matrix[j][i], matrix[i][j]\n",
    "                \n",
    "    def reflect(self, matrix):\n",
    "        n = len(matrix)\n",
    "        for i in range(n):\n",
    "            for j in range(n//2):\n",
    "                matrix[i][j], matrix[i][-j-1] = matrix[i][-j-1], matrix[i][j]"
   ]
  },
  {
   "cell_type": "markdown",
   "id": "3848187b",
   "metadata": {},
   "source": [
    "#### LeetCode 498. [Diagonal Traverse](https://leetcode.com/problems/diagonal-traverse/)\n",
    "We notice the index sums of all elements in a same diagnal are equal. So we first store each diagnal into a dictionary, then append them to a list in order. "
   ]
  },
  {
   "cell_type": "code",
   "execution_count": 1,
   "id": "eaff5cfa",
   "metadata": {},
   "outputs": [],
   "source": [
    "from collections import defaultdict\n",
    "class Solution(object):\n",
    "    def findDiagonalOrder(self, matrix): \n",
    "        # create a dict where key is index sum and default valee is list\n",
    "        index_sum = defaultdict(list)     \n",
    "\n",
    "        for i in range(len(matrix)):      #loop through matrix\n",
    "            for j in range(len(matrix[i])):\n",
    "                    index_sum[i+j].append(matrix[i][j]) \n",
    "\n",
    "        res= []\n",
    "        for key in index_sum:\n",
    "            if key % 2 == 0:\n",
    "                #Here we append in reverse order because its an even numbered level/diagonal. \n",
    "                [res.append(x) for x in index_sum[key][::-1]]\n",
    "            else:\n",
    "                [res.append(x) for x in index_sum[key]]\n",
    "        return res"
   ]
  },
  {
   "cell_type": "markdown",
   "id": "a42139d9",
   "metadata": {},
   "source": [
    "## String\n",
    "A string is actually an array/list of unicode characters."
   ]
  },
  {
   "cell_type": "markdown",
   "id": "2e903395",
   "metadata": {},
   "source": [
    "#### LeetCode 151. [Reverse Words in a String](https://leetcode.com/problems/reverse-words-in-a-string/)\n",
    "Use built-in `split` and `reverse` method."
   ]
  },
  {
   "cell_type": "code",
   "execution_count": 10,
   "id": "1b93ebf9",
   "metadata": {},
   "outputs": [],
   "source": [
    "class Solution:\n",
    "    def reverseWords(self, s):\n",
    "        return \" \".join(reversed(s.split()))"
   ]
  },
  {
   "cell_type": "markdown",
   "id": "0e668df6",
   "metadata": {},
   "source": [
    "#### LeetCode 28. [Implement strStr()](https://leetcode.com/problems/implement-strstr/)\n",
    "Use the built-in function `index()`"
   ]
  },
  {
   "cell_type": "code",
   "execution_count": null,
   "id": "2374a98c",
   "metadata": {},
   "outputs": [],
   "source": [
    "class Solution:\n",
    "    def strStr(self, haystack, needle):\n",
    "        try:\n",
    "            return haystack.index(needle)\n",
    "        except: return -1"
   ]
  },
  {
   "cell_type": "markdown",
   "id": "72f703a8",
   "metadata": {},
   "source": [
    "#### LeetCode 14. [Longest Common Prefix](https://leetcode.com/problems/longest-common-prefix/)\n",
    "Use the built-in function `find()`"
   ]
  },
  {
   "cell_type": "code",
   "execution_count": null,
   "id": "18a4bc20",
   "metadata": {},
   "outputs": [],
   "source": [
    "class Solution:\n",
    "    def longestCommonPrefix(self, strs: List[str]) -> str:\n",
    "        # Find the smallest word to start the search\n",
    "        pre = min(strs, key=len)\n",
    "\n",
    "        # reduce the shortest word to the desired prefix \n",
    "        for word in strs:\n",
    "            while word.find(pre) != 0:\n",
    "                pre = pre[:-1]            \n",
    "        return pre"
   ]
  },
  {
   "cell_type": "markdown",
   "id": "56d5e568",
   "metadata": {},
   "source": [
    "---\n",
    "# Queue and Stack<a name=\"stack\"></a>\n",
    "We may access a random element by index in Array. However, we might want to restrict the processing order in some cases.\n",
    "\n",
    "In this part, we introduce two different processing orders, **First-in-First-out** and **Last-in-First-out** and its two corresponding linear data structures, **Queue** and **Stack**."
   ]
  },
  {
   "cell_type": "markdown",
   "id": "23647913",
   "metadata": {},
   "source": [
    "## Queue: FIFO"
   ]
  },
  {
   "cell_type": "markdown",
   "id": "01877178",
   "metadata": {},
   "source": [
    "In a FIFO data structure, the first element added to the queue will be processed first.\n",
    "\n",
    "<img src=\"img/queue.png\" alt=\"queue.png\" width=\"400\"/>\n",
    "\n",
    "As shown in the picture above, the queue is a typical FIFO data stucture. The insert operation is also called enqueue and the new element is always added at the end of the queue. The delete operation is called dequeue. You are only allowed to remove the first element."
   ]
  },
  {
   "cell_type": "code",
   "execution_count": null,
   "id": "37a6b0d4",
   "metadata": {},
   "outputs": [],
   "source": []
  },
  {
   "cell_type": "code",
   "execution_count": null,
   "id": "011043e5",
   "metadata": {},
   "outputs": [],
   "source": []
  },
  {
   "cell_type": "code",
   "execution_count": null,
   "id": "bb4d2a91",
   "metadata": {},
   "outputs": [],
   "source": []
  },
  {
   "cell_type": "markdown",
   "id": "66789591",
   "metadata": {},
   "source": [
    "## Stack: LIFO\n",
    "\n",
    "In a LIFO data structure, the newest element added to the queue will be processed first.\n",
    "\n",
    "<img src=\"img/stack.png\" alt=\"stack.png\" width=\"400\"/>\n",
    "\n",
    "Different from the queue, the stack is a LIFO data structure. Typically, the insert operation is called push in a stack. Similar to the queue, a new element is always added at the end of the stack. However, the delete operation, pop, will always remove the last element which is opposite from the queue."
   ]
  },
  {
   "cell_type": "markdown",
   "id": "97ac67a6",
   "metadata": {},
   "source": [
    "#### LeetCode 20. [Valid Parentheses](https://leetcode.com/problems/valid-parentheses/)\n",
    "You can use `list` in Pyton to instantiate a stack. The other option is `deque`. It is faster but need to be imported from collections library. You can have more details about `deque` [here](https://docs.python.org/3/library/collections.html#collections.deque)"
   ]
  },
  {
   "cell_type": "code",
   "execution_count": 2,
   "id": "4927820f",
   "metadata": {},
   "outputs": [],
   "source": [
    "class Solution:\n",
    "    def isValid(self, s):\n",
    "        stack = list()\n",
    "        par = {'(':')', '[':']', '{':'}'}\n",
    "        \n",
    "        for br in s:\n",
    "            if br in par:\n",
    "                stack.append(par[br])\n",
    "            elif not stack:\n",
    "                return False\n",
    "            elif br != stack.pop():\n",
    "                return False\n",
    "        \n",
    "        return not stack"
   ]
  },
  {
   "cell_type": "markdown",
   "id": "cd1e2c04",
   "metadata": {},
   "source": [
    "---\n",
    "# Hashmap<a name=\"hashmap\"></a>\n",
    "\n",
    "Hash Table is a data structure which organizes data using hash functions in order to support quick insertion and search.\n",
    "\n",
    "There are two different kinds of hash tables: hash set and hash map.\n",
    "\n",
    "- The hash set is one of the implementations of a set data structure to store no repeated values.\n",
    "- The hash map is one of the implementations of a map data structure to store (key, value) pairs."
   ]
  },
  {
   "cell_type": "code",
   "execution_count": null,
   "id": "3e593bd2",
   "metadata": {},
   "outputs": [],
   "source": []
  },
  {
   "cell_type": "code",
   "execution_count": null,
   "id": "56632f7a",
   "metadata": {},
   "outputs": [],
   "source": []
  },
  {
   "cell_type": "markdown",
   "id": "7c3c41c0",
   "metadata": {},
   "source": [
    "#### LeetCode 1. [Two Sum](https://leetcode.com/problems/two-sum/)\n",
    "Note: the hashmap in Python is called `dictionary`."
   ]
  },
  {
   "cell_type": "code",
   "execution_count": null,
   "id": "db7b3f32",
   "metadata": {},
   "outputs": [],
   "source": [
    "class Solution(object):\n",
    "    def twoSum(self, nums, target):\n",
    "      \n",
    "        hashmap = dict()\n",
    "        for i, num in enumerate(nums):\n",
    "            diff = target - num\n",
    "            if diff in hashmap:\n",
    "                return[hashmap[diff], i]\n",
    "            hashmap[num] = i \n",
    "        \n",
    "        return []"
   ]
  },
  {
   "cell_type": "markdown",
   "id": "4ed2c95b",
   "metadata": {},
   "source": [
    "#### LeetCode 49. [Group Anagrams](https://leetcode.com/problems/group-anagrams/)\n",
    "Sometimes you may find the `defaultdict` is more convenient but you need to import it. Since it is also a hashmap, you need to be careful to which variable are hashable while others not."
   ]
  },
  {
   "cell_type": "code",
   "execution_count": null,
   "id": "6dc1645b",
   "metadata": {},
   "outputs": [],
   "source": [
    "from collections import defaultdict\n",
    "class Solution:\n",
    "    def groupAnagrams(self, strs: List[str]) -> List[List[str]]:\n",
    "        anagram = defaultdict(list)\n",
    "        for s in strs:\n",
    "            anagram[tuple(sorted(s))].append(s)\n",
    "\n",
    "        return [anagram[key] for key in anagram]"
   ]
  },
  {
   "cell_type": "markdown",
   "id": "fd98fc34",
   "metadata": {},
   "source": []
  },
  {
   "cell_type": "markdown",
   "id": "df63508e",
   "metadata": {},
   "source": []
  },
  {
   "cell_type": "code",
   "execution_count": 1,
   "id": "92f5b67e",
   "metadata": {},
   "outputs": [],
   "source": []
  },
  {
   "cell_type": "markdown",
   "id": "bf0c0b25",
   "metadata": {},
   "source": [
    "---\n",
    "# ListNodes<a name=\"listnodes\"></a>"
   ]
  },
  {
   "cell_type": "markdown",
   "id": "d7b9076f",
   "metadata": {},
   "source": [
    "Here is the definition for singly-linked list.\n",
    "```\n",
    "class ListNode:\n",
    "    def __init__(self, val=0, next=None):\n",
    "        self.val = val\n",
    "        self.next = next\n",
    "```"
   ]
  },
  {
   "cell_type": "markdown",
   "id": "d0c98e83",
   "metadata": {},
   "source": [
    "### LeetCode 21. [Merge Two Sorted Lists](https://leetcode.com/problems/merge-two-sorted-lists/)"
   ]
  },
  {
   "cell_type": "markdown",
   "id": "9a38eda0",
   "metadata": {},
   "source": [
    "This example provides a good starter for you to get familar with this structure."
   ]
  },
  {
   "cell_type": "code",
   "execution_count": 4,
   "id": "ddb0bc23",
   "metadata": {},
   "outputs": [],
   "source": [
    "class Solution:\n",
    "    def mergeTwoLists(self, list1, list2):\n",
    "        if not list1:\n",
    "            return list2\n",
    "        if not list2:\n",
    "            return list1\n",
    "        \n",
    "        # Make the next minimum value the next node(=return value).\n",
    "        if list1.val < list2.val:\n",
    "            list1.next = self.mergeTwoLists(list1.next, list2);\n",
    "            return list1\n",
    "        list2.next = self.mergeTwoLists(list1, list2.next);\n",
    "        return list2"
   ]
  },
  {
   "cell_type": "markdown",
   "id": "35041428",
   "metadata": {},
   "source": [
    "### LeetCode 2. [Add Two Numbers](https://leetcode.com/problems/add-two-numbers/)"
   ]
  },
  {
   "cell_type": "markdown",
   "id": "caaf2cb3",
   "metadata": {},
   "source": [
    "Keep track of the carry using a variable and simulate digits-by-digits sum starting from the head of list."
   ]
  },
  {
   "cell_type": "code",
   "execution_count": 5,
   "id": "1e5f2311",
   "metadata": {},
   "outputs": [],
   "source": [
    "class Solution:\n",
    "    def addTwoNumbers(self, l1, l2):\n",
    "        result = ListNode(0)\n",
    "        result_tail = result\n",
    "        carry = 0\n",
    "                \n",
    "        while l1 or l2 or carry:            \n",
    "            val1  = (l1.val if l1 else 0)\n",
    "            val2  = (l2.val if l2 else 0)\n",
    "            carry, out = divmod(val1+val2 + carry, 10)    \n",
    "                      \n",
    "            result_tail.next = ListNode(out)\n",
    "            result_tail = result_tail.next                      \n",
    "            \n",
    "            l1 = (l1.next if l1 else None)\n",
    "            l2 = (l2.next if l2 else None)\n",
    "               \n",
    "        return result.next"
   ]
  },
  {
   "cell_type": "markdown",
   "id": "fe8178dd",
   "metadata": {},
   "source": [
    "### LeetCode 24. [Swap Nodes in Pairs](https://leetcode.com/problems/swap-nodes-in-pairs/)"
   ]
  },
  {
   "cell_type": "markdown",
   "id": "998b509d",
   "metadata": {},
   "source": [
    "If you feel confused of the swapping process, it is better to draw in your scratch paper to see how it works."
   ]
  },
  {
   "cell_type": "code",
   "execution_count": null,
   "id": "cb39b004",
   "metadata": {},
   "outputs": [],
   "source": [
    "class Solution:\n",
    "    def swapPairs(self, head):\n",
    "        origin = ListNode(0, next=head)\n",
    "        odd, even = origin, origin\n",
    "        \n",
    "        while odd.next and even.next.next:\n",
    "            odd = odd.next\n",
    "            even.next = odd.next\n",
    "            even = even.next\n",
    "            odd.next = even.next\n",
    "            even.next = odd\n",
    "            even = even.next\n",
    "            \n",
    "        return origin.next"
   ]
  },
  {
   "cell_type": "markdown",
   "id": "bf831c08",
   "metadata": {},
   "source": [
    "It could be more clear and elegant using a recursive way."
   ]
  },
  {
   "cell_type": "code",
   "execution_count": null,
   "id": "8d9c968b",
   "metadata": {},
   "outputs": [],
   "source": [
    "class Solution(object):\n",
    "    def swapPairs(self, head):\n",
    "\n",
    "        # If the list has no node or has only one node left.\n",
    "        if not head or not head.next:\n",
    "            return head\n",
    "\n",
    "        # Nodes to be swapped\n",
    "        first_node = head\n",
    "        second_node = head.next\n",
    "\n",
    "        # Swapping\n",
    "        first_node.next  = self.swapPairs(second_node.next)\n",
    "        second_node.next = first_node\n",
    "\n",
    "        # Now the head is the second node\n",
    "        return second_node"
   ]
  },
  {
   "cell_type": "markdown",
   "id": "475ae4ab",
   "metadata": {},
   "source": [
    "### LeetCode 25. [Reverse Nodes in k-Group](https://leetcode.com/problems/reverse-nodes-in-k-group/)"
   ]
  },
  {
   "cell_type": "code",
   "execution_count": null,
   "id": "c474d903",
   "metadata": {},
   "outputs": [],
   "source": []
  },
  {
   "cell_type": "code",
   "execution_count": null,
   "id": "6900c5c6",
   "metadata": {},
   "outputs": [],
   "source": []
  },
  {
   "cell_type": "markdown",
   "id": "8c0e7487",
   "metadata": {},
   "source": [
    "---\n",
    "# Binary Tree<a name=\"binarytree\"></a>"
   ]
  },
  {
   "cell_type": "markdown",
   "id": "ff8706d0",
   "metadata": {},
   "source": [
    "### Tree definition\n",
    "First of all, here is the definition of the TreeNode which we would use.\n",
    "```\n",
    "class TreeNode:\n",
    "   def __init__(self, val=0, left=None, right=None):\n",
    "       self.val = x\n",
    "       self.left = None\n",
    "       self.right = None\n",
    "```"
   ]
  },
  {
   "cell_type": "markdown",
   "id": "270ea895",
   "metadata": {},
   "source": [
    "### LeetCode 104. [Maximum Depth of Binary Tree](https://leetcode.com/problems/binary-tree-level-order-traversal/)"
   ]
  },
  {
   "cell_type": "markdown",
   "id": "ad17a2b5",
   "metadata": {},
   "source": [
    "Let us get familiar with the binary tree from finding the maximum depth of it, which could be realised with a recursion."
   ]
  },
  {
   "cell_type": "code",
   "execution_count": 1,
   "id": "77e64ca8",
   "metadata": {},
   "outputs": [],
   "source": [
    "class Solution:\n",
    "    def maxDepth(self, root):\n",
    "        if not root:\n",
    "            return 0\n",
    "        else:\n",
    "            return 1 + max( self.maxDepth(root.left), self.maxDepth(root.right))"
   ]
  },
  {
   "cell_type": "markdown",
   "id": "3f58b8ba",
   "metadata": {},
   "source": [
    "There are two general strategies to traverse a tree:\n",
    "\n",
    "* Depth First Search (DFS)\n",
    "\n",
    "  In this strategy, we adopt the depth as the priority, so that one would start from a root and reach all the way down to certain leaf, and then back to root to reach another branch. The DFS strategy can further be distinguished as preorder, inorder, and postorder depending on the relative order among the root node, left node and right node.\n",
    "\n",
    "\n",
    "* Breadth First Search (BFS)\n",
    "\n",
    "  We scan through the tree level by level, following the order of height, from top to bottom. The nodes on higher level would be visited before the ones with lower levels.\n",
    "  \n",
    "In the following graph, the nodes are enumerated in the order you visit them, and you could follow 1-2-3-4-5 to compare different strategies.\n",
    "<img src=\"tree.png\" alt=\"img/tree.png\" width=\"700\"/>"
   ]
  },
  {
   "cell_type": "markdown",
   "id": "b094d193",
   "metadata": {},
   "source": [
    "### LeetCode 102. [Binary Tree Level Order Traversal](https://leetcode.com/problems/binary-tree-level-order-traversal/)"
   ]
  },
  {
   "cell_type": "code",
   "execution_count": 3,
   "id": "be8ef574",
   "metadata": {},
   "outputs": [],
   "source": [
    "class Solution:\n",
    "    def levelOrder(self, root):\n",
    "        \"\"\"\n",
    "        :type root: TreeNode\n",
    "        :rtype: List[List[int]]\n",
    "        \"\"\"\n",
    "        levels = []\n",
    "        if not root:\n",
    "            return levels\n",
    "        \n",
    "        def helper(node, level):\n",
    "            # start the current level\n",
    "            if len(levels) == level:\n",
    "                levels.append([])\n",
    "\n",
    "            # append the current node value\n",
    "            levels[level].append(node.val)\n",
    "\n",
    "            # process child nodes for the next level\n",
    "            if node.left:\n",
    "                helper(node.left, level + 1)\n",
    "            if node.right:\n",
    "                helper(node.right, level + 1)"
   ]
  },
  {
   "cell_type": "markdown",
   "id": "2c5dacc5",
   "metadata": {},
   "source": [
    "You can also implement in a interation approation with the help of a `queue`."
   ]
  },
  {
   "cell_type": "code",
   "execution_count": 1,
   "id": "388cfe15",
   "metadata": {},
   "outputs": [],
   "source": [
    "from collections import deque\n",
    "class Solution:\n",
    "    def levelOrder(self, root):\n",
    "        \"\"\"\n",
    "        :type root: TreeNode\n",
    "        :rtype: List[List[int]]\n",
    "        \"\"\"\n",
    "        levels = []\n",
    "        if not root:\n",
    "            return levels\n",
    "        \n",
    "        level = 0\n",
    "        queue = deque([root,])\n",
    "        while queue:\n",
    "            # start the current level\n",
    "            levels.append([])\n",
    "            # number of elements in the current level \n",
    "            level_length = len(queue)\n",
    "            \n",
    "            for i in range(level_length):\n",
    "                node = queue.popleft()\n",
    "                # fulfill the current level\n",
    "                levels[level].append(node.val)\n",
    "                \n",
    "                # add child nodes of the current level\n",
    "                # in the queue for the next level\n",
    "                if node.left:\n",
    "                    queue.append(node.left)\n",
    "                if node.right:\n",
    "                    queue.append(node.right)\n",
    "            \n",
    "            # go to next level\n",
    "            level += 1\n",
    "        \n",
    "        return levels"
   ]
  },
  {
   "cell_type": "markdown",
   "id": "d8b2418a",
   "metadata": {},
   "source": [
    "### LeetCode 94. [Binary Tree Inorder Traversal](https://leetcode.com/problems/binary-tree-inorder-traversal/)"
   ]
  },
  {
   "cell_type": "markdown",
   "id": "6509c3df",
   "metadata": {},
   "source": [
    "For this question, you need to implement an inorder traversal. The solution provides a recursive version but you can also iterate it with the help of a `stack`."
   ]
  },
  {
   "cell_type": "code",
   "execution_count": 1,
   "id": "5ddd68c7",
   "metadata": {},
   "outputs": [],
   "source": [
    "class Solution:\n",
    "    def inorderTraversalrec(self, root):\n",
    "        if root:\n",
    "            self.inorderTraversalrec(root.left)\n",
    "            self.tree.append(root.val)\n",
    "            self.inorderTraversalrec(root.right)\n",
    "    \n",
    "    def inorderTraversal(self, root):\n",
    "        self.tree = []\n",
    "        self.inorderTraversalrec(root)\n",
    "        return self.tree"
   ]
  },
  {
   "cell_type": "markdown",
   "id": "49275f51",
   "metadata": {},
   "source": [
    "### LeetCode 98. [Validate Binary Search Tree](https://leetcode.com/problems/validate-binary-search-tree/)"
   ]
  },
  {
   "cell_type": "markdown",
   "id": "6cce8566",
   "metadata": {},
   "source": [
    "Here we can use the inorder traveral from last question to check whether a binary search tree is valid or not.\n",
    "\n",
    "Recall a valid BST is defined as follows:\n",
    "\n",
    "* The left subtree of a node contains only nodes with keys less than the node's key.\n",
    "* The right subtree of a node contains only nodes with keys greater than the node's key.\n",
    "* Both the left and right subtrees must also be binary search trees."
   ]
  },
  {
   "cell_type": "code",
   "execution_count": 3,
   "id": "d0941c86",
   "metadata": {},
   "outputs": [],
   "source": [
    "class Solution:\n",
    "    def isValidBST(self, root):\n",
    "        def inorder(root):\n",
    "            if not root:\n",
    "                return True\n",
    "            if not inorder(root.left):\n",
    "                return False\n",
    "            if not self.prev < root.val:\n",
    "                return False\n",
    "            else:\n",
    "                self.prev = root.val\n",
    "                return inorder(root.right)\n",
    "            \n",
    "        self.prev = -math.inf\n",
    "        return inorder(root)"
   ]
  },
  {
   "cell_type": "markdown",
   "id": "b4e0a79f",
   "metadata": {},
   "source": [
    "### LeetCode 96. [Unique Binary Search Trees](https://leetcode.com/problems/unique-binary-search-trees/)"
   ]
  },
  {
   "cell_type": "markdown",
   "id": "27898664",
   "metadata": {},
   "source": [
    "It is easy to get the answer with a dynamic programming approach. Actually, as it turns out, the sequence of function results is known as Catalan number, which we a more convenient formular to compute it. Tou can find the fomular and proofs [here](https://en.wikipedia.org/wiki/Catalan_number#Second_proof)."
   ]
  },
  {
   "cell_type": "code",
   "execution_count": null,
   "id": "eaaee8b4",
   "metadata": {},
   "outputs": [],
   "source": [
    "class Solution:\n",
    "    def numTrees(self, n):\n",
    "        res = [0]*(n+1)\n",
    "        res[0], res[1] = 1, 1\n",
    "        \n",
    "        if n>1:\n",
    "            for i in range(2, n+1):\n",
    "                for k in range(1, i+1):\n",
    "                    res[i] += res[k-1]*res[i-k]\n",
    "        \n",
    "        return res[n]"
   ]
  },
  {
   "cell_type": "markdown",
   "id": "ed14c66c",
   "metadata": {},
   "source": [
    "---\n",
    "# Heap<a name=\"heap\"></a>"
   ]
  },
  {
   "cell_type": "markdown",
   "id": "ae6a4035",
   "metadata": {},
   "source": [
    "According to Wikipedia, a Heap is a special type of binary tree. A heap is a binary tree that meets the following criteria:\n",
    "\n",
    "* Is a complete binary tree;\n",
    "* The value of each node must be no greater than (or no less than) the value of its child nodes.\n",
    "\n",
    "<img src=\"img/heap1.png\" alt=\"heap1.png\" width=\"700\"/>"
   ]
  },
  {
   "cell_type": "markdown",
   "id": "c7442a51",
   "metadata": {},
   "source": [
    "A Heap has the following properties:\n",
    "\n",
    "* Insertion of an element into the Heap has a time complexity of $O(\\log{N})$;\n",
    "* Deletion of an element from the Heap has a time complexity of $O(\\log{N})$;\n",
    "* The maximum/minimum value in the Heap can be obtained with $O(\\log{1})$ time complexity."
   ]
  },
  {
   "cell_type": "code",
   "execution_count": null,
   "id": "e898eeb5",
   "metadata": {},
   "outputs": [],
   "source": []
  }
 ],
 "metadata": {
  "kernelspec": {
   "display_name": "Python 3 (ipykernel)",
   "language": "python",
   "name": "python3"
  },
  "language_info": {
   "codemirror_mode": {
    "name": "ipython",
    "version": 3
   },
   "file_extension": ".py",
   "mimetype": "text/x-python",
   "name": "python",
   "nbconvert_exporter": "python",
   "pygments_lexer": "ipython3",
   "version": "3.9.7"
  }
 },
 "nbformat": 4,
 "nbformat_minor": 5
}
