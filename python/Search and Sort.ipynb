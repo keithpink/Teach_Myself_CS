{
 "cells": [
  {
   "cell_type": "markdown",
   "id": "77bf1dda",
   "metadata": {},
   "source": [
    "---\n",
    "# Search"
   ]
  },
  {
   "cell_type": "markdown",
   "id": "66bf0952",
   "metadata": {},
   "source": [
    "## Binary Search"
   ]
  },
  {
   "cell_type": "markdown",
   "id": "66e6e0cd",
   "metadata": {},
   "source": [
    "#### LeetCode 35. [Search Insert Position](https://leetcode.com/problems/search-insert-position/)\n",
    "\n",
    "An example of binary search. You can implment binary search by either interation or recursion. Here is a recursive version."
   ]
  },
  {
   "cell_type": "code",
   "execution_count": 2,
   "id": "e6e2b63b",
   "metadata": {},
   "outputs": [],
   "source": [
    "class Solution:\n",
    "    def searchInsert(self, nums, target):\n",
    "        if len(nums) == 0: return 0\n",
    "        if len(nums) == 1:\n",
    "            return 0 if target<= nums[0] else 1\n",
    "               \n",
    "        N = len(nums)//2\n",
    "        \n",
    "        if target == nums[N]:\n",
    "            return N\n",
    "        elif target < nums[N]:\n",
    "            return self.searchInsert(nums[:N], target)\n",
    "        elif target > nums[N]:\n",
    "            return N+1+ self.searchInsert(nums[N+1:], target)"
   ]
  },
  {
   "cell_type": "markdown",
   "id": "50dba643",
   "metadata": {},
   "source": [
    "#### LeetCode 33. [Search in Rotated Sorted Array](https://leetcode.com/problems/search-in-rotated-sorted-array/)\n",
    "Another variation of binary search. Here is a iterative version."
   ]
  },
  {
   "cell_type": "code",
   "execution_count": 4,
   "id": "43367657",
   "metadata": {},
   "outputs": [],
   "source": [
    "class Solution:\n",
    "    def search(self, nums, target):\n",
    "        l = 0\n",
    "        r = len(nums)-1\n",
    "        \n",
    "        while l<=r:\n",
    "            m = (l+r)//2\n",
    "            if nums[m] == target:\n",
    "                return m\n",
    "            elif nums[m] >= nums[l]:\n",
    "                if nums[l] <= target and target < nums[m]:\n",
    "                    r = m - 1\n",
    "                else:\n",
    "                    l = m + 1\n",
    "            else: # nums[m] <= nums[l]\n",
    "                if nums[m] < target and target <= nums[r]:\n",
    "                    l = m + 1\n",
    "                else:\n",
    "                    r = m - 1\n",
    "        \n",
    "        return -1"
   ]
  },
  {
   "cell_type": "markdown",
   "id": "068c9f23",
   "metadata": {},
   "source": [
    "#### LeetCode 74. [Search a 2D Matrix](https://leetcode.com/problems/search-a-2d-matrix/)\n",
    "You may come up with a solution with two binary searches, one for row and the other for column. But why not implement it with only ONE search! Then it is tricky to find the middle element."
   ]
  },
  {
   "cell_type": "code",
   "execution_count": 2,
   "id": "9ae40368",
   "metadata": {},
   "outputs": [],
   "source": [
    "class Solution:\n",
    "    def searchMatrix(self, matrix, target):\n",
    "        m = len(matrix)    # rows\n",
    "        n = len(matrix[0]) # columns\n",
    "        \n",
    "        l= 0     # two pointers: l for left\n",
    "        r = m*n-1    # r for right\n",
    "        while l<= r:\n",
    "            i = (l+r)//2  # get the index \n",
    "            i_entry = matrix[i//n][i%n]   # get the middle element\n",
    "            if target > i_entry:\n",
    "                l = i + 1\n",
    "            elif target < i_entry:\n",
    "                r = i - 1\n",
    "            else:\n",
    "                return True\n",
    "        return False"
   ]
  },
  {
   "cell_type": "markdown",
   "id": "ebb25da9",
   "metadata": {},
   "source": [
    "#### LeetCode 4. [Median of Two Sorted Arrays](https://leetcode.com/problems/median-of-two-sorted-arrays/)\n",
    "\n",
    "This question is tricky while it is still be solved by a binary search. A detailed explanation could be find [here](https://www.youtube.com/watch?v=q6IEA26hvXc)."
   ]
  },
  {
   "cell_type": "code",
   "execution_count": 1,
   "id": "5eaa6c37",
   "metadata": {},
   "outputs": [],
   "source": [
    "class Solution:\n",
    "    def findMedianSortedArrays(self, nums1, nums2):\n",
    "        A, B = nums1, nums2\n",
    "        if len(A) > len(B):\n",
    "            A, B = B, A\n",
    "        \n",
    "        n1, n2 = len(A), len(B)\n",
    "        half = (n1 + n2)//2\n",
    "        l, r = 0, n1-1\n",
    "       \n",
    "        while True:\n",
    "            i = (l+r)//2      #A\n",
    "            j = half-i-2         #B\n",
    "            \n",
    "            A_left = A[i] if i >= 0 else float(\"-infinity\")\n",
    "            A_right = A[i+1] if (i+1) < n1 else float(\"infinity\")\n",
    "            B_left = B[j] if j >= 0 else float(\"-infinity\")\n",
    "            B_right = B[j+1] if (j+1) < n2 else float(\"infinity\")\n",
    "            \n",
    "            if A_left <= B_right and B_left <= A_right:\n",
    "                if (n1+n2)%2:    # odd\n",
    "                    return min(A_right, B_right)\n",
    "                else:                # even\n",
    "                    return (max(A_left, B_left) + min(A_right, B_right))/2\n",
    "            elif A_left > B_right:\n",
    "                r = i - 1\n",
    "            else:   # B_left > A_right\n",
    "                l = i + 1"
   ]
  },
  {
   "cell_type": "markdown",
   "id": "9dec90e8",
   "metadata": {},
   "source": []
  }
 ],
 "metadata": {
  "kernelspec": {
   "display_name": "Python 3 (ipykernel)",
   "language": "python",
   "name": "python3"
  },
  "language_info": {
   "codemirror_mode": {
    "name": "ipython",
    "version": 3
   },
   "file_extension": ".py",
   "mimetype": "text/x-python",
   "name": "python",
   "nbconvert_exporter": "python",
   "pygments_lexer": "ipython3",
   "version": "3.8.12"
  }
 },
 "nbformat": 4,
 "nbformat_minor": 5
}
