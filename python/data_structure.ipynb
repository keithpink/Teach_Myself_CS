{
 "cells": [
  {
   "cell_type": "markdown",
   "id": "bf9cb16f",
   "metadata": {},
   "source": [
    "# Data Structure"
   ]
  },
  {
   "cell_type": "markdown",
   "id": "d9602d0f",
   "metadata": {},
   "source": [
    "Realization of some algorithms are highly dependent on some certain data structues. \n",
    "\n",
    "This notebook contains questions easily be solved by some particular data structures."
   ]
  },
  {
   "cell_type": "markdown",
   "id": "cd1e2c04",
   "metadata": {},
   "source": [
    "---\n",
    "# Hashmap"
   ]
  },
  {
   "cell_type": "markdown",
   "id": "9d986b36",
   "metadata": {},
   "source": [
    "### LeetCode 1. [Two Sum](https://leetcode.com/problems/two-sum/)"
   ]
  },
  {
   "cell_type": "markdown",
   "id": "7c3c41c0",
   "metadata": {},
   "source": [
    "Note: the hashmap in Python is called `dictionary`."
   ]
  },
  {
   "cell_type": "code",
   "execution_count": null,
   "id": "db7b3f32",
   "metadata": {},
   "outputs": [],
   "source": [
    "class Solution(object):\n",
    "    def twoSum(self, nums, target):\n",
    "      \n",
    "        hashmap = dict()\n",
    "        for i, num in enumerate(nums):\n",
    "            diff = target - num\n",
    "            if diff in hashmap:\n",
    "                return[hashmap[diff], i]\n",
    "            hashmap[num] = i \n",
    "        \n",
    "        return []"
   ]
  },
  {
   "cell_type": "markdown",
   "id": "c8d5dc97",
   "metadata": {},
   "source": [
    "### LeetCode 49. [Group Anagrams](https://leetcode.com/problems/group-anagrams/)"
   ]
  },
  {
   "cell_type": "markdown",
   "id": "4ed2c95b",
   "metadata": {},
   "source": [
    "Sometimes you may find the `defaultdict` is more convenient but you need to import it. Since it is also a hashmap, you need to be careful to which variable are hashable while others not."
   ]
  },
  {
   "cell_type": "code",
   "execution_count": null,
   "id": "6dc1645b",
   "metadata": {},
   "outputs": [],
   "source": [
    "from collections import defaultdict\n",
    "class Solution:\n",
    "    def groupAnagrams(self, strs: List[str]) -> List[List[str]]:\n",
    "        anagram = defaultdict(list)\n",
    "        for s in strs:\n",
    "            anagram[tuple(sorted(s))].append(s)\n",
    "\n",
    "        return [anagram[key] for key in anagram]"
   ]
  },
  {
   "cell_type": "markdown",
   "id": "fd98fc34",
   "metadata": {},
   "source": [
    "---\n",
    "# Stack"
   ]
  },
  {
   "cell_type": "markdown",
   "id": "bc9fbde5",
   "metadata": {},
   "source": [
    "### LeetCode 20. [Valid Parentheses](https://leetcode.com/problems/valid-parentheses/)"
   ]
  },
  {
   "cell_type": "markdown",
   "id": "df63508e",
   "metadata": {},
   "source": [
    "You can use `list` in Pyton to instantiate a stack. The other option is `deque`. It is faster but need to be imported from collections library. You can have more details about `deque` [here](https://docs.python.org/3/library/collections.html#collections.deque)"
   ]
  },
  {
   "cell_type": "code",
   "execution_count": 1,
   "id": "92f5b67e",
   "metadata": {},
   "outputs": [],
   "source": [
    "class Solution:\n",
    "    def isValid(self, s):\n",
    "        stack = list()\n",
    "        par = {'(':')', '[':']', '{':'}'}\n",
    "        \n",
    "        for br in s:\n",
    "            if br in par:\n",
    "                stack.append(par[br])\n",
    "            elif not stack:\n",
    "                return False\n",
    "            elif br != stack.pop():\n",
    "                return False\n",
    "        \n",
    "        return not stack"
   ]
  },
  {
   "cell_type": "markdown",
   "id": "bf0c0b25",
   "metadata": {},
   "source": [
    "---\n",
    "# ListNodes"
   ]
  },
  {
   "cell_type": "markdown",
   "id": "d7b9076f",
   "metadata": {},
   "source": [
    "Here is the definition for singly-linked list.\n",
    "```\n",
    "class ListNode:\n",
    "    def __init__(self, val=0, next=None):\n",
    "        self.val = val\n",
    "        self.next = next\n",
    "```"
   ]
  },
  {
   "cell_type": "markdown",
   "id": "d0c98e83",
   "metadata": {},
   "source": [
    "### LeetCode 21. [Merge Two Sorted Lists](https://leetcode.com/problems/merge-two-sorted-lists/)"
   ]
  },
  {
   "cell_type": "markdown",
   "id": "9a38eda0",
   "metadata": {},
   "source": [
    "This example provides a good starter for you to get familar with this structure."
   ]
  },
  {
   "cell_type": "code",
   "execution_count": 4,
   "id": "ddb0bc23",
   "metadata": {},
   "outputs": [],
   "source": [
    "class Solution:\n",
    "    def mergeTwoLists(self, list1, list2):\n",
    "        if not list1:\n",
    "            return list2\n",
    "        if not list2:\n",
    "            return list1\n",
    "        \n",
    "        # Make the next minimum value the next node(=return value).\n",
    "        if list1.val < list2.val:\n",
    "            list1.next = self.mergeTwoLists(list1.next, list2);\n",
    "            return list1\n",
    "        list2.next = self.mergeTwoLists(list1, list2.next);\n",
    "        return list2"
   ]
  },
  {
   "cell_type": "markdown",
   "id": "35041428",
   "metadata": {},
   "source": [
    "### LeetCode 2. [Add Two Numbers](https://leetcode.com/problems/add-two-numbers/)"
   ]
  },
  {
   "cell_type": "markdown",
   "id": "caaf2cb3",
   "metadata": {},
   "source": [
    "Keep track of the carry using a variable and simulate digits-by-digits sum starting from the head of list."
   ]
  },
  {
   "cell_type": "code",
   "execution_count": 5,
   "id": "1e5f2311",
   "metadata": {},
   "outputs": [],
   "source": [
    "class Solution:\n",
    "    def addTwoNumbers(self, l1, l2):\n",
    "        result = ListNode(0)\n",
    "        result_tail = result\n",
    "        carry = 0\n",
    "                \n",
    "        while l1 or l2 or carry:            \n",
    "            val1  = (l1.val if l1 else 0)\n",
    "            val2  = (l2.val if l2 else 0)\n",
    "            carry, out = divmod(val1+val2 + carry, 10)    \n",
    "                      \n",
    "            result_tail.next = ListNode(out)\n",
    "            result_tail = result_tail.next                      \n",
    "            \n",
    "            l1 = (l1.next if l1 else None)\n",
    "            l2 = (l2.next if l2 else None)\n",
    "               \n",
    "        return result.next"
   ]
  },
  {
   "cell_type": "markdown",
   "id": "41367041",
   "metadata": {},
   "source": [
    "### LeetCode 19. [Remove Nth Node From End of List](https://leetcode.com/problems/remove-nth-node-from-end-of-list/)"
   ]
  },
  {
   "cell_type": "markdown",
   "id": "0de66713",
   "metadata": {},
   "source": [
    "This is a one-pass solution with two pointers. The fast pointer advances the list by N steps from the beginning, while the slow pointer starts from the beginning of the list. When the fast pointer reaches the end of the list, the slow pointer would be at the exact (N+1)th node from the end."
   ]
  },
  {
   "cell_type": "code",
   "execution_count": null,
   "id": "560dc4ad",
   "metadata": {},
   "outputs": [],
   "source": [
    "class Solution:\n",
    "    def removeNthFromEnd(self, head, n):\n",
    "        if not head:\n",
    "            return head\n",
    "        \n",
    "        fast, slow = head, head\n",
    "        for i in range(n):\n",
    "            if fast:\n",
    "                fast = fast.next\n",
    "            else:\n",
    "                break\n",
    "        \n",
    "        if fast:\n",
    "            while fast.next:\n",
    "                fast = fast.next\n",
    "                slow = slow.next\n",
    "            slow.next = slow.next.next\n",
    "        else:\n",
    "            return head.next\n",
    "        \n",
    "        return head"
   ]
  },
  {
   "cell_type": "markdown",
   "id": "fe8178dd",
   "metadata": {},
   "source": [
    "### LeetCode 24. [Swap Nodes in Pairs](https://leetcode.com/problems/swap-nodes-in-pairs/)"
   ]
  },
  {
   "cell_type": "markdown",
   "id": "998b509d",
   "metadata": {},
   "source": [
    "If you feel confused of the swapping process, it is better to draw in your scratch paper to see how it works."
   ]
  },
  {
   "cell_type": "code",
   "execution_count": null,
   "id": "cb39b004",
   "metadata": {},
   "outputs": [],
   "source": [
    "class Solution:\n",
    "    def swapPairs(self, head):\n",
    "        origin = ListNode(0, next=head)\n",
    "        odd, even = origin, origin\n",
    "        \n",
    "        while odd.next and even.next.next:\n",
    "            odd = odd.next\n",
    "            even.next = odd.next\n",
    "            even = even.next\n",
    "            odd.next = even.next\n",
    "            even.next = odd\n",
    "            even = even.next\n",
    "            \n",
    "        return origin.next"
   ]
  },
  {
   "cell_type": "markdown",
   "id": "3917f726",
   "metadata": {},
   "source": [
    "It could be more clear and elegant using a recursive way."
   ]
  },
  {
   "cell_type": "code",
   "execution_count": null,
   "id": "01266aa6",
   "metadata": {},
   "outputs": [],
   "source": [
    "class Solution(object):\n",
    "    def swapPairs(self, head):\n",
    "\n",
    "        # If the list has no node or has only one node left.\n",
    "        if not head or not head.next:\n",
    "            return head\n",
    "\n",
    "        # Nodes to be swapped\n",
    "        first_node = head\n",
    "        second_node = head.next\n",
    "\n",
    "        # Swapping\n",
    "        first_node.next  = self.swapPairs(second_node.next)\n",
    "        second_node.next = first_node\n",
    "\n",
    "        # Now the head is the second node\n",
    "        return second_node"
   ]
  },
  {
   "cell_type": "markdown",
   "id": "7deb8088",
   "metadata": {},
   "source": [
    "### LeetCode 25. [Reverse Nodes in k-Group](https://leetcode.com/problems/reverse-nodes-in-k-group/)"
   ]
  },
  {
   "cell_type": "code",
   "execution_count": null,
   "id": "d0912b4d",
   "metadata": {},
   "outputs": [],
   "source": []
  },
  {
   "cell_type": "code",
   "execution_count": null,
   "id": "05e0d517",
   "metadata": {},
   "outputs": [],
   "source": []
  },
  {
   "cell_type": "markdown",
   "id": "8c0e7487",
   "metadata": {},
   "source": [
    "---\n",
    "# Binary Tree"
   ]
  },
  {
   "cell_type": "markdown",
   "id": "ff8706d0",
   "metadata": {},
   "source": [
    "### Tree definition\n",
    "First of all, here is the definition of the TreeNode which we would use.\n",
    "```\n",
    "class TreeNode:\n",
    "   def __init__(self, val=0, left=None, right=None):\n",
    "       self.val = x\n",
    "       self.left = None\n",
    "       self.right = None\n",
    "```"
   ]
  },
  {
   "cell_type": "markdown",
   "id": "71667539",
   "metadata": {},
   "source": [
    "### LeetCode 104. [Maximum Depth of Binary Tree](https://leetcode.com/problems/binary-tree-level-order-traversal/)"
   ]
  },
  {
   "cell_type": "markdown",
   "id": "9bec878d",
   "metadata": {},
   "source": [
    "Let us get familiar with the binary tree from finding the maximum depth of it, which could be realised with a recursion."
   ]
  },
  {
   "cell_type": "code",
   "execution_count": 1,
   "id": "4baaff31",
   "metadata": {},
   "outputs": [],
   "source": [
    "class Solution:\n",
    "    def maxDepth(self, root):\n",
    "        if not root:\n",
    "            return 0\n",
    "        else:\n",
    "            return 1 + max( self.maxDepth(root.left), self.maxDepth(root.right))"
   ]
  },
  {
   "cell_type": "markdown",
   "id": "18d1a635",
   "metadata": {},
   "source": [
    "There are two general strategies to traverse a tree:\n",
    "\n",
    "* Depth First Search (DFS)\n",
    "\n",
    "  In this strategy, we adopt the depth as the priority, so that one would start from a root and reach all the way down to certain leaf, and then back to root to reach another branch. The DFS strategy can further be distinguished as preorder, inorder, and postorder depending on the relative order among the root node, left node and right node.\n",
    "\n",
    "\n",
    "* Breadth First Search (BFS)\n",
    "\n",
    "  We scan through the tree level by level, following the order of height, from top to bottom. The nodes on higher level would be visited before the ones with lower levels.\n",
    "  \n",
    "In the following graph, the nodes are enumerated in the order you visit them, and you could follow 1-2-3-4-5 to compare different strategies.\n",
    "<img src=\"tree.png\" alt=\"tree.png\" width=\"700\"/>"
   ]
  },
  {
   "cell_type": "markdown",
   "id": "ffca4903",
   "metadata": {},
   "source": [
    "### LeetCode 102. [Binary Tree Level Order Traversal](https://leetcode.com/problems/binary-tree-level-order-traversal/)"
   ]
  },
  {
   "cell_type": "markdown",
   "id": "abb15a26",
   "metadata": {},
   "source": [
    "For this question, you need to implement an inorder traversal. The solution provides a recursive version but you can also iterate it with the help of a `queue`."
   ]
  },
  {
   "cell_type": "code",
   "execution_count": null,
   "id": "95ba99c1",
   "metadata": {},
   "outputs": [],
   "source": []
  },
  {
   "cell_type": "markdown",
   "id": "d8b2418a",
   "metadata": {},
   "source": [
    "### LeetCode 94. [Binary Tree Inorder Traversal](https://leetcode.com/problems/binary-tree-inorder-traversal/)"
   ]
  },
  {
   "cell_type": "markdown",
   "id": "6509c3df",
   "metadata": {},
   "source": [
    "For this question, you need to implement an inorder traversal. The solution provides a recursive version but you can also iterate it with the help of a `stack`."
   ]
  },
  {
   "cell_type": "code",
   "execution_count": 1,
   "id": "5ddd68c7",
   "metadata": {},
   "outputs": [],
   "source": [
    "class Solution:\n",
    "    def inorderTraversalrec(self, root):\n",
    "        if root:\n",
    "            self.inorderTraversalrec(root.left)\n",
    "            self.tree.append(root.val)\n",
    "            self.inorderTraversalrec(root.right)\n",
    "    \n",
    "    def inorderTraversal(self, root):\n",
    "        self.tree = []\n",
    "        self.inorderTraversalrec(root)\n",
    "        return self.tree"
   ]
  },
  {
   "cell_type": "markdown",
   "id": "49275f51",
   "metadata": {},
   "source": [
    "### LeetCode 98. [Validate Binary Search Tree](https://leetcode.com/problems/validate-binary-search-tree/)"
   ]
  },
  {
   "cell_type": "markdown",
   "id": "6cce8566",
   "metadata": {},
   "source": [
    "Here we can use the inorder traveral from last question to check whether a binary search tree is valid or not.\n",
    "\n",
    "Recall a valid BST is defined as follows:\n",
    "\n",
    "* The left subtree of a node contains only nodes with keys less than the node's key.\n",
    "* The right subtree of a node contains only nodes with keys greater than the node's key.\n",
    "* Both the left and right subtrees must also be binary search trees."
   ]
  },
  {
   "cell_type": "code",
   "execution_count": 3,
   "id": "d0941c86",
   "metadata": {},
   "outputs": [],
   "source": [
    "class Solution:\n",
    "    def isValidBST(self, root):\n",
    "        def inorder(root):\n",
    "            if not root:\n",
    "                return True\n",
    "            if not inorder(root.left):\n",
    "                return False\n",
    "            if not self.prev < root.val:\n",
    "                return False\n",
    "            else:\n",
    "                self.prev = root.val\n",
    "                return inorder(root.right)\n",
    "            \n",
    "        self.prev = -math.inf\n",
    "        return inorder(root)"
   ]
  },
  {
   "cell_type": "markdown",
   "id": "b4e0a79f",
   "metadata": {},
   "source": [
    "### LeetCode 96. [Unique Binary Search Trees](https://leetcode.com/problems/unique-binary-search-trees/)"
   ]
  },
  {
   "cell_type": "markdown",
   "id": "27898664",
   "metadata": {},
   "source": [
    "It is easy to get the answer with a dynamic programming approach. Actually, as it turns out, the sequence of function results is known as Catalan number, which we a more convenient formular to compute it. Tou can find the fomular and proofs [here](https://en.wikipedia.org/wiki/Catalan_number#Second_proof)."
   ]
  },
  {
   "cell_type": "code",
   "execution_count": null,
   "id": "eaaee8b4",
   "metadata": {},
   "outputs": [],
   "source": [
    "class Solution:\n",
    "    def numTrees(self, n):\n",
    "        res = [0]*(n+1)\n",
    "        res[0], res[1] = 1, 1\n",
    "        \n",
    "        if n>1:\n",
    "            for i in range(2, n+1):\n",
    "                for k in range(1, i+1):\n",
    "                    res[i] += res[k-1]*res[i-k]\n",
    "        \n",
    "        return res[n]"
   ]
  }
 ],
 "metadata": {
  "kernelspec": {
   "display_name": "Python 3 (ipykernel)",
   "language": "python",
   "name": "python3"
  },
  "language_info": {
   "codemirror_mode": {
    "name": "ipython",
    "version": 3
   },
   "file_extension": ".py",
   "mimetype": "text/x-python",
   "name": "python",
   "nbconvert_exporter": "python",
   "pygments_lexer": "ipython3",
   "version": "3.9.7"
  }
 },
 "nbformat": 4,
 "nbformat_minor": 5
}
